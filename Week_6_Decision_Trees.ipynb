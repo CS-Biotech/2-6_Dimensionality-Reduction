{
 "cells": [
  {
   "cell_type": "markdown",
   "metadata": {
    "id": "rawbBiJk2m3C"
   },
   "source": [
    "# Week 6 Decision Trees\n",
    "\n",
    "## Learning objectives\n",
    "By the end of this module, you will be able to:\n",
    "1. Explain each component in a decision tree.\n",
    "3. Make a prediction for a data point given a decision tree.\n",
    "2. Explain the advantages of decision trees.\n",
    "3. Create a decision tree for a dataset by using `sklearn' in Python.\n",
    "4. Adjust decision tree parameters for a specific use case."
   ]
  },
  {
   "cell_type": "markdown",
   "metadata": {
    "id": "dc2hvlR2VccR"
   },
   "source": [
    "### Introducing Decision Trees\n",
    "\n",
    "A Decision Tree is a popular supervised learning method that aims to make predictions through a series of decisions or questions, creating a branching structure of decisions. Building a decision tree entails developing a set of questions for the input data to answer.\n",
    "\n",
    "Decision Trees are commonly used for **classification** and **regression** tasks. A classification task predicts the value of a discrete, categorical variable, for example, determining if a patient has a particular disease given the results of a complete blood count. In contrast, a regression task predicts the value of a continuous variable, such as predicting the concentration of a protein given the expression levels of a set of genes.\n",
    "\n",
    "\n",
    "Let's start with some definitions:\n",
    "- <span style=\"background-color: #AFEEEE\">**Decision Node**</span>: Each decision node looks at a feature and asks a true/false question regarding the value of the feature (commonly whether or not the feature is below a certain value). Depending on the answer to the question, we will choose a branch to follow. For example, we could ask if `age <= 0.25`. If this condition is met, we will go to the left branch, otherwise, we will go to the right branch. These are also called internal nodes. One special case of an internal node is the **root node**, which is the topmost node of the tree where *all* points start.\n",
    "- <span style=\"background-color: #AFEEEE\">**Leaf Node**</span>: Leaf nodes are the nodes of the tree where all samples reach after a series of decision nodes. Leaf nodes do not \"ask a question\" but rather assign a prediction to the sample. In classification tasks, this is the class of the sample (eg. true or false, type of gene, etc.). For regression tasks, this is a real value.\n",
    "- <span style=\"background-color: #AFEEEE\">**Branch**</span>: Branches connect all nodes together. Each branch corresponds to the answer to the question of the node above (`True` or `False`).\n",
    "- <span style=\"background-color: #AFEEEE\">**Node Depth**</span>: The depth of a node is equal to the number of decisions it takes to reach that node + 1. For example, the depth of the root node is 1 as no decision is made before it (0 + 1).\n",
    "- <span style=\"background-color: #AFEEEE\">**Tree Depth**</span>: The depth of the tree is equal to the depth of the deepest internal node.   \n"
   ]
  },
  {
   "cell_type": "markdown",
   "metadata": {
    "id": "6ohMQqOyo7x_"
   },
   "source": [
    "Here is a diagram of the structure of a decision tree with each component labelled:\n",
    "\n",
    "![elements of a decision tree](images/element_of_decision_tree.jpg)\n",
    "\n"
   ]
  },
  {
   "cell_type": "markdown",
   "metadata": {
    "id": "7CoTEBGHca8j"
   },
   "source": [
    "#### **Real-life Example**\n",
    "Recall that in HMB201, we used a dataset on heart failure patients, containing data on 299 patients' characteristics such as age, sex, and whether they smoke (i.e., features), and also containing whether or not the patient died from heart failure.\n",
    "\n",
    "Using the dataset, we trained a decision tree that aims to predict death in heart failure patients. The tree is used to make a binary decision given a patient's features. The tree is visualized below.\n",
    "\n",
    "![name](images/heart_failure_decision_tree.png)\n",
    "\n"
   ]
  },
  {
   "cell_type": "markdown",
   "metadata": {
    "id": "3OwnSUyd40p-"
   },
   "source": [
    "Each node in the diagram has 3-4 pieces of information:\n",
    "1. Decision Rule (not present in leaf nodes)\n",
    "2. Number of samples reaching the node\n",
    "3. Number of samples in each class (No Death, Death)\n",
    "4. Majority class of points reaching that node.\n",
    "\n",
    "Let's look at the root node as an example:\n",
    "\n",
    "![picture labels](images/root%20node.png)\n",
    "\n",
    "  - **serum_creatinine <= 1.815**: The decision rule applied at this node. It splits the data based on whether a patient's `serum_creatinine` is less than or equal to 1.815. If yes, the patient follows the `True` branch; otherwise, it follows the `False` branch.\n",
    "  - **samples = 299**: The total number of samples that reached this node. With no splitting yet, there are 299 patients in the dataset.\n",
    "  - **value = [203, 96]**: The distribution of these samples among the classes at this node. Among the 299 samples, 203 patients belong to the class \"No Death\" and 96 patients belong to the class \"Death\"\n",
    "  - **class = No Death**: The majority class of all the samples that reached this node. If the node is a leaf node, then the majority class represents the predicted class for all the samples that reached the node."
   ]
  },
  {
   "cell_type": "markdown",
   "metadata": {
    "id": "C3JMVrKKOod3"
   },
   "source": [
    "We can also see that this tree's depth is 3 since we have three decision nodes at depth 3."
   ]
  },
  {
   "cell_type": "markdown",
   "metadata": {
    "id": "6E76aL5hmkiY"
   },
   "source": [
    "Consider a particular data sample representing a patient. To predict whether the patient died of heart failure, we pass the data sample to the root node. The data sample is routed through the tree by answering the questions at each node, and eventually reaches a leaf node with a final prediction.\n",
    "\n",
    "A patient of `serum_creatinine = 1.700`, `ejection_fraction = 26.0`, `serum_sodium = 120.5` would be predicted as \"Death\" in the tree. When the patient's features vector is passed through the tree, the patient would always follow the `True` branch and end up in the leftmost leaf node."
   ]
  },
  {
   "cell_type": "markdown",
   "metadata": {
    "id": "EYoRb02IuljH"
   },
   "source": [
    "##### **Q1: You are given a patient with the specified values for each of the dataset features below. Using this and the generated decision tree, classify the patient as either \"Death\" or \"No Death\". Describe the path you took to get to the answer.**\n",
    "  - `anaemia`: 1\n",
    "  - `age`: 50\n",
    "  - `creatinine_phosphokinase`: 1.650\n",
    "  - `diabetes`: 0\n",
    "  - `ejection_fraction`: 29.4\n",
    "  - `high_blood_pressure`: 1\n",
    "  - `platelets`: \t263358.03\n",
    "  - `serum_sodium`: 1.1\n",
    "  - `sex`: 0\n",
    "  - `smoking`: 1\n",
    "  - `serum_creatine`: 1.8\n"
   ]
  },
  {
   "cell_type": "markdown",
   "metadata": {
    "id": "u9r0I0za7sXV"
   },
   "source": [
    "<span style=\"background-color: #FFD700\">**Write your answer below**</span>\n",
    "\n",
    "Answer: No Death; Left, Right, Left"
   ]
  },
  {
   "cell_type": "markdown",
   "metadata": {
    "id": "uDwVl8LfFIj-"
   },
   "source": [
    "#### **Advantages of Decision Trees**\n",
    "\n",
    "Decision trees are a popular method in machine learning and data analysis. Here are some key benefits:\n",
    "\n",
    "- **Interpretability**: They are easy to understand and interpret, even for non-experts. Understandable models are essential for research and diagnosis in clinical settings. In contrast, other machine learning models, such as neural networks, are much more challenging to interpret.\n",
    "\n",
    "- **Feature Importance**: A good decision tree can naturally indicate which features are most influential in making predictions. For example, the decision tree above uses `serum_creatinine` in multiple nodes, suggesting that this feature is crucial for predicting death in heart failure patients.\n",
    "\n",
    "- **Versatility**: Suitable for both classification and regression tasks.\n",
    "\n",
    "- **Handles Non-linear Relationships**: Can capture non-linear relationships between features and target variables.\n",
    "\n",
    "- **Can Deal with Missing Values**: They can handle missing data points without requiring extra preprocessing."
   ]
  },
  {
   "cell_type": "markdown",
   "metadata": {
    "id": "UQXlPmdWvwXb"
   },
   "source": [
    "### Building Decision Trees for Heart Failure Dataset"
   ]
  },
  {
   "cell_type": "markdown",
   "metadata": {
    "id": "hPQidjQXtjGO"
   },
   "source": [
    "In the previous section, we showed a decision tree for the heart failure dataset. In this section, we will go through the code used to train and visualize this tree.\n",
    "\n",
    "Let's begin by importing the necessary libraries and the heart failure dataset that was used above.\n",
    "\n",
    "**Step 1: Load the Dataset**"
   ]
  },
  {
   "cell_type": "code",
   "execution_count": 1,
   "metadata": {
    "id": "eUveB5nKEUWM"
   },
   "outputs": [
    {
     "data": {
      "text/html": [
       "<div>\n",
       "<style scoped>\n",
       "    .dataframe tbody tr th:only-of-type {\n",
       "        vertical-align: middle;\n",
       "    }\n",
       "\n",
       "    .dataframe tbody tr th {\n",
       "        vertical-align: top;\n",
       "    }\n",
       "\n",
       "    .dataframe thead th {\n",
       "        text-align: right;\n",
       "    }\n",
       "</style>\n",
       "<table border=\"1\" class=\"dataframe\">\n",
       "  <thead>\n",
       "    <tr style=\"text-align: right;\">\n",
       "      <th></th>\n",
       "      <th>age</th>\n",
       "      <th>anaemia</th>\n",
       "      <th>creatinine_phosphokinase</th>\n",
       "      <th>diabetes</th>\n",
       "      <th>ejection_fraction</th>\n",
       "      <th>high_blood_pressure</th>\n",
       "      <th>platelets</th>\n",
       "      <th>serum_creatinine</th>\n",
       "      <th>serum_sodium</th>\n",
       "      <th>sex</th>\n",
       "      <th>smoking</th>\n",
       "      <th>DEATH_EVENT</th>\n",
       "    </tr>\n",
       "  </thead>\n",
       "  <tbody>\n",
       "    <tr>\n",
       "      <th>0</th>\n",
       "      <td>75.0</td>\n",
       "      <td>0</td>\n",
       "      <td>582</td>\n",
       "      <td>0</td>\n",
       "      <td>20</td>\n",
       "      <td>1.0</td>\n",
       "      <td>265000.00</td>\n",
       "      <td>1.9</td>\n",
       "      <td>130</td>\n",
       "      <td>1</td>\n",
       "      <td>0.0</td>\n",
       "      <td>1</td>\n",
       "    </tr>\n",
       "    <tr>\n",
       "      <th>1</th>\n",
       "      <td>55.0</td>\n",
       "      <td>0</td>\n",
       "      <td>7861</td>\n",
       "      <td>0</td>\n",
       "      <td>38</td>\n",
       "      <td>0.0</td>\n",
       "      <td>263358.03</td>\n",
       "      <td>1.1</td>\n",
       "      <td>136</td>\n",
       "      <td>1</td>\n",
       "      <td>0.0</td>\n",
       "      <td>1</td>\n",
       "    </tr>\n",
       "    <tr>\n",
       "      <th>2</th>\n",
       "      <td>65.0</td>\n",
       "      <td>0</td>\n",
       "      <td>146</td>\n",
       "      <td>0</td>\n",
       "      <td>20</td>\n",
       "      <td>0.0</td>\n",
       "      <td>162000.00</td>\n",
       "      <td>1.3</td>\n",
       "      <td>129</td>\n",
       "      <td>1</td>\n",
       "      <td>1.0</td>\n",
       "      <td>1</td>\n",
       "    </tr>\n",
       "    <tr>\n",
       "      <th>3</th>\n",
       "      <td>50.0</td>\n",
       "      <td>1</td>\n",
       "      <td>111</td>\n",
       "      <td>0</td>\n",
       "      <td>20</td>\n",
       "      <td>0.0</td>\n",
       "      <td>210000.00</td>\n",
       "      <td>1.9</td>\n",
       "      <td>137</td>\n",
       "      <td>1</td>\n",
       "      <td>0.0</td>\n",
       "      <td>1</td>\n",
       "    </tr>\n",
       "    <tr>\n",
       "      <th>4</th>\n",
       "      <td>65.0</td>\n",
       "      <td>1</td>\n",
       "      <td>160</td>\n",
       "      <td>1</td>\n",
       "      <td>20</td>\n",
       "      <td>0.0</td>\n",
       "      <td>327000.00</td>\n",
       "      <td>2.7</td>\n",
       "      <td>116</td>\n",
       "      <td>0</td>\n",
       "      <td>0.0</td>\n",
       "      <td>1</td>\n",
       "    </tr>\n",
       "  </tbody>\n",
       "</table>\n",
       "</div>"
      ],
      "text/plain": [
       "    age  anaemia  creatinine_phosphokinase  diabetes  ejection_fraction  \\\n",
       "0  75.0        0                       582         0                 20   \n",
       "1  55.0        0                      7861         0                 38   \n",
       "2  65.0        0                       146         0                 20   \n",
       "3  50.0        1                       111         0                 20   \n",
       "4  65.0        1                       160         1                 20   \n",
       "\n",
       "   high_blood_pressure  platelets  serum_creatinine  serum_sodium  sex  \\\n",
       "0                  1.0  265000.00               1.9           130    1   \n",
       "1                  0.0  263358.03               1.1           136    1   \n",
       "2                  0.0  162000.00               1.3           129    1   \n",
       "3                  0.0  210000.00               1.9           137    1   \n",
       "4                  0.0  327000.00               2.7           116    0   \n",
       "\n",
       "   smoking  DEATH_EVENT  \n",
       "0      0.0            1  \n",
       "1      0.0            1  \n",
       "2      1.0            1  \n",
       "3      0.0            1  \n",
       "4      0.0            1  "
      ]
     },
     "execution_count": 1,
     "metadata": {},
     "output_type": "execute_result"
    }
   ],
   "source": [
    "import pandas as pd       # For processing tabular data\n",
    "from sklearn.tree import DecisionTreeClassifier  # For training a decision tree\n",
    "df = pd.read_csv('heart_failure_data_tut.csv')\n",
    "df.head()"
   ]
  },
  {
   "cell_type": "markdown",
   "metadata": {
    "id": "Nle4L8V_FdVJ"
   },
   "source": [
    "Each row in the table above represents a patient, detailing various characteristics of the patient (i.e. the features), and also whether or not the patient died of heart failure\n",
    "\n",
    "We include the list of features below as a reminder:\n",
    "  - `anaemia`: which is binary 1=true, 0=false\n",
    "  - `age`: ages in year\n",
    "  - `creatinine_phosphokinase`\n",
    "  - `diabetes`: which is binary 1=true, 0=false\n",
    "  - `ejection_fraction`\n",
    "  - `high_blood_pressure`\n",
    "  - `platelets`\n",
    "  - `serum_sodium`\n",
    "  - `sex`\n",
    "  - `smoking`\n",
    "\n",
    "We will be using these features to predict the value in the `DEATH_EVENT` column:\n",
    "-  `DEATH_EVENT`: A report that if the heart failure patient died (1=yes, 0=no).\n"
   ]
  },
  {
   "cell_type": "markdown",
   "metadata": {
    "id": "pJMP3a7gqeg4"
   },
   "source": [
    "**Step 2: Process the raw data**\n",
    "\n",
    "Next, we will use the variable `X` to store the input features, which are all the information except the `DEATH_EVENT` column."
   ]
  },
  {
   "cell_type": "code",
   "execution_count": 2,
   "metadata": {
    "id": "6IS2_U7SFGcZ"
   },
   "outputs": [
    {
     "data": {
      "text/html": [
       "<div>\n",
       "<style scoped>\n",
       "    .dataframe tbody tr th:only-of-type {\n",
       "        vertical-align: middle;\n",
       "    }\n",
       "\n",
       "    .dataframe tbody tr th {\n",
       "        vertical-align: top;\n",
       "    }\n",
       "\n",
       "    .dataframe thead th {\n",
       "        text-align: right;\n",
       "    }\n",
       "</style>\n",
       "<table border=\"1\" class=\"dataframe\">\n",
       "  <thead>\n",
       "    <tr style=\"text-align: right;\">\n",
       "      <th></th>\n",
       "      <th>age</th>\n",
       "      <th>anaemia</th>\n",
       "      <th>creatinine_phosphokinase</th>\n",
       "      <th>diabetes</th>\n",
       "      <th>ejection_fraction</th>\n",
       "      <th>high_blood_pressure</th>\n",
       "      <th>platelets</th>\n",
       "      <th>serum_creatinine</th>\n",
       "      <th>serum_sodium</th>\n",
       "      <th>sex</th>\n",
       "      <th>smoking</th>\n",
       "    </tr>\n",
       "  </thead>\n",
       "  <tbody>\n",
       "    <tr>\n",
       "      <th>0</th>\n",
       "      <td>75.0</td>\n",
       "      <td>0</td>\n",
       "      <td>582</td>\n",
       "      <td>0</td>\n",
       "      <td>20</td>\n",
       "      <td>1.0</td>\n",
       "      <td>265000.00</td>\n",
       "      <td>1.9</td>\n",
       "      <td>130</td>\n",
       "      <td>1</td>\n",
       "      <td>0.0</td>\n",
       "    </tr>\n",
       "    <tr>\n",
       "      <th>1</th>\n",
       "      <td>55.0</td>\n",
       "      <td>0</td>\n",
       "      <td>7861</td>\n",
       "      <td>0</td>\n",
       "      <td>38</td>\n",
       "      <td>0.0</td>\n",
       "      <td>263358.03</td>\n",
       "      <td>1.1</td>\n",
       "      <td>136</td>\n",
       "      <td>1</td>\n",
       "      <td>0.0</td>\n",
       "    </tr>\n",
       "    <tr>\n",
       "      <th>2</th>\n",
       "      <td>65.0</td>\n",
       "      <td>0</td>\n",
       "      <td>146</td>\n",
       "      <td>0</td>\n",
       "      <td>20</td>\n",
       "      <td>0.0</td>\n",
       "      <td>162000.00</td>\n",
       "      <td>1.3</td>\n",
       "      <td>129</td>\n",
       "      <td>1</td>\n",
       "      <td>1.0</td>\n",
       "    </tr>\n",
       "    <tr>\n",
       "      <th>3</th>\n",
       "      <td>50.0</td>\n",
       "      <td>1</td>\n",
       "      <td>111</td>\n",
       "      <td>0</td>\n",
       "      <td>20</td>\n",
       "      <td>0.0</td>\n",
       "      <td>210000.00</td>\n",
       "      <td>1.9</td>\n",
       "      <td>137</td>\n",
       "      <td>1</td>\n",
       "      <td>0.0</td>\n",
       "    </tr>\n",
       "    <tr>\n",
       "      <th>4</th>\n",
       "      <td>65.0</td>\n",
       "      <td>1</td>\n",
       "      <td>160</td>\n",
       "      <td>1</td>\n",
       "      <td>20</td>\n",
       "      <td>0.0</td>\n",
       "      <td>327000.00</td>\n",
       "      <td>2.7</td>\n",
       "      <td>116</td>\n",
       "      <td>0</td>\n",
       "      <td>0.0</td>\n",
       "    </tr>\n",
       "  </tbody>\n",
       "</table>\n",
       "</div>"
      ],
      "text/plain": [
       "    age  anaemia  creatinine_phosphokinase  diabetes  ejection_fraction  \\\n",
       "0  75.0        0                       582         0                 20   \n",
       "1  55.0        0                      7861         0                 38   \n",
       "2  65.0        0                       146         0                 20   \n",
       "3  50.0        1                       111         0                 20   \n",
       "4  65.0        1                       160         1                 20   \n",
       "\n",
       "   high_blood_pressure  platelets  serum_creatinine  serum_sodium  sex  \\\n",
       "0                  1.0  265000.00               1.9           130    1   \n",
       "1                  0.0  263358.03               1.1           136    1   \n",
       "2                  0.0  162000.00               1.3           129    1   \n",
       "3                  0.0  210000.00               1.9           137    1   \n",
       "4                  0.0  327000.00               2.7           116    0   \n",
       "\n",
       "   smoking  \n",
       "0      0.0  \n",
       "1      0.0  \n",
       "2      1.0  \n",
       "3      0.0  \n",
       "4      0.0  "
      ]
     },
     "execution_count": 2,
     "metadata": {},
     "output_type": "execute_result"
    }
   ],
   "source": [
    "# Separating features and target\n",
    "X_hf = df.drop(columns=['DEATH_EVENT'])\n",
    "\n",
    "# y is the target of the dataset\n",
    "y_hf = df['DEATH_EVENT']\n",
    "\n",
    "X_hf.head()"
   ]
  },
  {
   "cell_type": "markdown",
   "metadata": {
    "id": "p5sH5vflgxW-"
   },
   "source": [
    "**Step 3: Train a Decision Tree**\n",
    "\n",
    "Next, we will create a decision tree using the `DecisionTreeClassifier` provided by `sklearn`.The documentation about this model contains information about the parameters of the tree and can be found at the following link: https://scikit-learn.org/stable/modules/generated/sklearn.tree.DecisionTreeClassifier.html. We will learn a bit about the important parameters later.\n",
    "\n",
    "\n",
    "Remember, the pipeline for model development in sklearn is **initialize->fit->predict**."
   ]
  },
  {
   "cell_type": "code",
   "execution_count": 3,
   "metadata": {
    "id": "bRHfH0b-rswC"
   },
   "outputs": [
    {
     "data": {
      "text/html": [
       "<style>#sk-container-id-1 {color: black;}#sk-container-id-1 pre{padding: 0;}#sk-container-id-1 div.sk-toggleable {background-color: white;}#sk-container-id-1 label.sk-toggleable__label {cursor: pointer;display: block;width: 100%;margin-bottom: 0;padding: 0.3em;box-sizing: border-box;text-align: center;}#sk-container-id-1 label.sk-toggleable__label-arrow:before {content: \"▸\";float: left;margin-right: 0.25em;color: #696969;}#sk-container-id-1 label.sk-toggleable__label-arrow:hover:before {color: black;}#sk-container-id-1 div.sk-estimator:hover label.sk-toggleable__label-arrow:before {color: black;}#sk-container-id-1 div.sk-toggleable__content {max-height: 0;max-width: 0;overflow: hidden;text-align: left;background-color: #f0f8ff;}#sk-container-id-1 div.sk-toggleable__content pre {margin: 0.2em;color: black;border-radius: 0.25em;background-color: #f0f8ff;}#sk-container-id-1 input.sk-toggleable__control:checked~div.sk-toggleable__content {max-height: 200px;max-width: 100%;overflow: auto;}#sk-container-id-1 input.sk-toggleable__control:checked~label.sk-toggleable__label-arrow:before {content: \"▾\";}#sk-container-id-1 div.sk-estimator input.sk-toggleable__control:checked~label.sk-toggleable__label {background-color: #d4ebff;}#sk-container-id-1 div.sk-label input.sk-toggleable__control:checked~label.sk-toggleable__label {background-color: #d4ebff;}#sk-container-id-1 input.sk-hidden--visually {border: 0;clip: rect(1px 1px 1px 1px);clip: rect(1px, 1px, 1px, 1px);height: 1px;margin: -1px;overflow: hidden;padding: 0;position: absolute;width: 1px;}#sk-container-id-1 div.sk-estimator {font-family: monospace;background-color: #f0f8ff;border: 1px dotted black;border-radius: 0.25em;box-sizing: border-box;margin-bottom: 0.5em;}#sk-container-id-1 div.sk-estimator:hover {background-color: #d4ebff;}#sk-container-id-1 div.sk-parallel-item::after {content: \"\";width: 100%;border-bottom: 1px solid gray;flex-grow: 1;}#sk-container-id-1 div.sk-label:hover label.sk-toggleable__label {background-color: #d4ebff;}#sk-container-id-1 div.sk-serial::before {content: \"\";position: absolute;border-left: 1px solid gray;box-sizing: border-box;top: 0;bottom: 0;left: 50%;z-index: 0;}#sk-container-id-1 div.sk-serial {display: flex;flex-direction: column;align-items: center;background-color: white;padding-right: 0.2em;padding-left: 0.2em;position: relative;}#sk-container-id-1 div.sk-item {position: relative;z-index: 1;}#sk-container-id-1 div.sk-parallel {display: flex;align-items: stretch;justify-content: center;background-color: white;position: relative;}#sk-container-id-1 div.sk-item::before, #sk-container-id-1 div.sk-parallel-item::before {content: \"\";position: absolute;border-left: 1px solid gray;box-sizing: border-box;top: 0;bottom: 0;left: 50%;z-index: -1;}#sk-container-id-1 div.sk-parallel-item {display: flex;flex-direction: column;z-index: 1;position: relative;background-color: white;}#sk-container-id-1 div.sk-parallel-item:first-child::after {align-self: flex-end;width: 50%;}#sk-container-id-1 div.sk-parallel-item:last-child::after {align-self: flex-start;width: 50%;}#sk-container-id-1 div.sk-parallel-item:only-child::after {width: 0;}#sk-container-id-1 div.sk-dashed-wrapped {border: 1px dashed gray;margin: 0 0.4em 0.5em 0.4em;box-sizing: border-box;padding-bottom: 0.4em;background-color: white;}#sk-container-id-1 div.sk-label label {font-family: monospace;font-weight: bold;display: inline-block;line-height: 1.2em;}#sk-container-id-1 div.sk-label-container {text-align: center;}#sk-container-id-1 div.sk-container {/* jupyter's `normalize.less` sets `[hidden] { display: none; }` but bootstrap.min.css set `[hidden] { display: none !important; }` so we also need the `!important` here to be able to override the default hidden behavior on the sphinx rendered scikit-learn.org. See: https://github.com/scikit-learn/scikit-learn/issues/21755 */display: inline-block !important;position: relative;}#sk-container-id-1 div.sk-text-repr-fallback {display: none;}</style><div id=\"sk-container-id-1\" class=\"sk-top-container\"><div class=\"sk-text-repr-fallback\"><pre>DecisionTreeClassifier(max_depth=3, random_state=1)</pre><b>In a Jupyter environment, please rerun this cell to show the HTML representation or trust the notebook. <br />On GitHub, the HTML representation is unable to render, please try loading this page with nbviewer.org.</b></div><div class=\"sk-container\" hidden><div class=\"sk-item\"><div class=\"sk-estimator sk-toggleable\"><input class=\"sk-toggleable__control sk-hidden--visually\" id=\"sk-estimator-id-1\" type=\"checkbox\" checked><label for=\"sk-estimator-id-1\" class=\"sk-toggleable__label sk-toggleable__label-arrow\">DecisionTreeClassifier</label><div class=\"sk-toggleable__content\"><pre>DecisionTreeClassifier(max_depth=3, random_state=1)</pre></div></div></div></div></div>"
      ],
      "text/plain": [
       "DecisionTreeClassifier(max_depth=3, random_state=1)"
      ]
     },
     "execution_count": 3,
     "metadata": {},
     "output_type": "execute_result"
    }
   ],
   "source": [
    "# Create a decision tree that has a maximum depth of 3\n",
    "dec_tree = DecisionTreeClassifier(random_state=1, max_depth=3)\n",
    "# Train a decision tree\n",
    "dec_tree.fit(X_hf, y_hf)"
   ]
  },
  {
   "cell_type": "markdown",
   "metadata": {
    "id": "Ry2fdxiJrYjY"
   },
   "source": [
    "**Step 4: Visualize a Decision Tree**\n",
    "\n",
    "We have included a function `visualize_tree`, which plots a decision tree."
   ]
  },
  {
   "cell_type": "code",
   "execution_count": 4,
   "metadata": {
    "id": "6krwKYq5S8T-"
   },
   "outputs": [],
   "source": [
    "# Import Libraries for Plotting\n",
    "import graphviz\n",
    "from IPython.display import display\n",
    "from sklearn import tree\n",
    "\n",
    "def visualize_tree(model, feature_names: list[str], class_names: list[str]):\n",
    "  \"\"\"\n",
    "  Generate an image that visualizes a Sklearn Decision\n",
    "\n",
    "  See here: https://scikit-learn.org/stable/modules/generated/sklearn.tree.export_graphviz.html\n",
    "\n",
    "  Parameters:\n",
    "      `model` - A Sklearn decision tree model\n",
    "      `feature_names` - List of feature names for the data sample in the dataset\n",
    "      `class_names` - List of class labels/targets in the dataset\n",
    "  \"\"\"\n",
    "  dot_data = tree.export_graphviz(model,\n",
    "                                      feature_names=feature_names,\n",
    "                                      class_names=class_names,\n",
    "                                      filled=True,\n",
    "                                      rounded=True,\n",
    "                                      impurity=False\n",
    "                                  )\n",
    "  return display(graphviz.Source(dot_data))"
   ]
  },
  {
   "cell_type": "markdown",
   "metadata": {
    "id": "_Oq1EWiEvewn"
   },
   "source": [
    "To use the function `visualize_tree`, we need to pass 3 input parameters:\n",
    "\n",
    "  - **model**: the decision tree model we want to visualize\n",
    "  - **feature_names**: a list of input features. In this case, it is `[\"age\", \"anaemia\", \"creatinine_phosphokinase\", \"diabetes\", ...]`\n",
    "  - **class_names**: a list of classes. In this case, it is `[\"Death\", \"No Death\"]`"
   ]
  },
  {
   "cell_type": "code",
   "execution_count": 5,
   "metadata": {
    "id": "eOg9tXEBvHTb"
   },
   "outputs": [
    {
     "data": {
      "image/svg+xml": [
       "<?xml version=\"1.0\" encoding=\"UTF-8\" standalone=\"no\"?>\n",
       "<!DOCTYPE svg PUBLIC \"-//W3C//DTD SVG 1.1//EN\"\n",
       " \"http://www.w3.org/Graphics/SVG/1.1/DTD/svg11.dtd\">\n",
       "<!-- Generated by graphviz version 9.0.0 (20231125.0833)\n",
       " -->\n",
       "<!-- Title: Tree Pages: 1 -->\n",
       "<svg width=\"933pt\" height=\"407pt\"\n",
       " viewBox=\"0.00 0.00 933.00 406.75\" xmlns=\"http://www.w3.org/2000/svg\" xmlns:xlink=\"http://www.w3.org/1999/xlink\">\n",
       "<g id=\"graph0\" class=\"graph\" transform=\"scale(1 1) rotate(0) translate(4 402.75)\">\n",
       "<title>Tree</title>\n",
       "<polygon fill=\"white\" stroke=\"none\" points=\"-4,4 -4,-402.75 929,-402.75 929,4 -4,4\"/>\n",
       "<!-- 0 -->\n",
       "<g id=\"node1\" class=\"node\">\n",
       "<title>0</title>\n",
       "<path fill=\"#f1bd97\" stroke=\"black\" d=\"M574.38,-398.75C574.38,-398.75 389.62,-398.75 389.62,-398.75 383.62,-398.75 377.62,-392.75 377.62,-386.75 377.62,-386.75 377.62,-333.75 377.62,-333.75 377.62,-327.75 383.62,-321.75 389.62,-321.75 389.62,-321.75 574.38,-321.75 574.38,-321.75 580.38,-321.75 586.38,-327.75 586.38,-333.75 586.38,-333.75 586.38,-386.75 586.38,-386.75 586.38,-392.75 580.38,-398.75 574.38,-398.75\"/>\n",
       "<text text-anchor=\"middle\" x=\"482\" y=\"-381.45\" font-family=\"Helvetica,sans-Serif\" font-size=\"14.00\">serum_creatinine &lt;= 1.815</text>\n",
       "<text text-anchor=\"middle\" x=\"482\" y=\"-364.2\" font-family=\"Helvetica,sans-Serif\" font-size=\"14.00\">samples = 299</text>\n",
       "<text text-anchor=\"middle\" x=\"482\" y=\"-346.95\" font-family=\"Helvetica,sans-Serif\" font-size=\"14.00\">value = [203, 96]</text>\n",
       "<text text-anchor=\"middle\" x=\"482\" y=\"-329.7\" font-family=\"Helvetica,sans-Serif\" font-size=\"14.00\">class = No Death</text>\n",
       "</g>\n",
       "<!-- 1 -->\n",
       "<g id=\"node2\" class=\"node\">\n",
       "<title>1</title>\n",
       "<path fill=\"#eda979\" stroke=\"black\" d=\"M460.25,-285.75C460.25,-285.75 289.75,-285.75 289.75,-285.75 283.75,-285.75 277.75,-279.75 277.75,-273.75 277.75,-273.75 277.75,-220.75 277.75,-220.75 277.75,-214.75 283.75,-208.75 289.75,-208.75 289.75,-208.75 460.25,-208.75 460.25,-208.75 466.25,-208.75 472.25,-214.75 472.25,-220.75 472.25,-220.75 472.25,-273.75 472.25,-273.75 472.25,-279.75 466.25,-285.75 460.25,-285.75\"/>\n",
       "<text text-anchor=\"middle\" x=\"375\" y=\"-268.45\" font-family=\"Helvetica,sans-Serif\" font-size=\"14.00\">ejection_fraction &lt;= 27.5</text>\n",
       "<text text-anchor=\"middle\" x=\"375\" y=\"-251.2\" font-family=\"Helvetica,sans-Serif\" font-size=\"14.00\">samples = 251</text>\n",
       "<text text-anchor=\"middle\" x=\"375\" y=\"-233.95\" font-family=\"Helvetica,sans-Serif\" font-size=\"14.00\">value = [190, 61]</text>\n",
       "<text text-anchor=\"middle\" x=\"375\" y=\"-216.7\" font-family=\"Helvetica,sans-Serif\" font-size=\"14.00\">class = No Death</text>\n",
       "</g>\n",
       "<!-- 0&#45;&gt;1 -->\n",
       "<g id=\"edge1\" class=\"edge\">\n",
       "<title>0&#45;&gt;1</title>\n",
       "<path fill=\"none\" stroke=\"black\" d=\"M445.48,-321.36C437.04,-312.61 427.98,-303.21 419.25,-294.15\"/>\n",
       "<polygon fill=\"black\" stroke=\"black\" points=\"421.87,-291.83 412.41,-287.06 416.83,-296.69 421.87,-291.83\"/>\n",
       "<text text-anchor=\"middle\" x=\"410.9\" y=\"-306.29\" font-family=\"Helvetica,sans-Serif\" font-size=\"14.00\">True</text>\n",
       "</g>\n",
       "<!-- 8 -->\n",
       "<g id=\"node9\" class=\"node\">\n",
       "<title>8</title>\n",
       "<path fill=\"#83c1ef\" stroke=\"black\" d=\"M677.88,-285.75C677.88,-285.75 502.12,-285.75 502.12,-285.75 496.12,-285.75 490.12,-279.75 490.12,-273.75 490.12,-273.75 490.12,-220.75 490.12,-220.75 490.12,-214.75 496.12,-208.75 502.12,-208.75 502.12,-208.75 677.88,-208.75 677.88,-208.75 683.88,-208.75 689.88,-214.75 689.88,-220.75 689.88,-220.75 689.88,-273.75 689.88,-273.75 689.88,-279.75 683.88,-285.75 677.88,-285.75\"/>\n",
       "<text text-anchor=\"middle\" x=\"590\" y=\"-268.45\" font-family=\"Helvetica,sans-Serif\" font-size=\"14.00\">serum_creatinine &lt;= 2.05</text>\n",
       "<text text-anchor=\"middle\" x=\"590\" y=\"-251.2\" font-family=\"Helvetica,sans-Serif\" font-size=\"14.00\">samples = 48</text>\n",
       "<text text-anchor=\"middle\" x=\"590\" y=\"-233.95\" font-family=\"Helvetica,sans-Serif\" font-size=\"14.00\">value = [13, 35]</text>\n",
       "<text text-anchor=\"middle\" x=\"590\" y=\"-216.7\" font-family=\"Helvetica,sans-Serif\" font-size=\"14.00\">class = Death</text>\n",
       "</g>\n",
       "<!-- 0&#45;&gt;8 -->\n",
       "<g id=\"edge8\" class=\"edge\">\n",
       "<title>0&#45;&gt;8</title>\n",
       "<path fill=\"none\" stroke=\"black\" d=\"M518.87,-321.36C527.38,-312.61 536.53,-303.21 545.34,-294.15\"/>\n",
       "<polygon fill=\"black\" stroke=\"black\" points=\"547.78,-296.66 552.25,-287.05 542.76,-291.78 547.78,-296.66\"/>\n",
       "<text text-anchor=\"middle\" x=\"553.64\" y=\"-306.29\" font-family=\"Helvetica,sans-Serif\" font-size=\"14.00\">False</text>\n",
       "</g>\n",
       "<!-- 2 -->\n",
       "<g id=\"node3\" class=\"node\">\n",
       "<title>2</title>\n",
       "<path fill=\"#c0e0f7\" stroke=\"black\" d=\"M292.75,-172.75C292.75,-172.75 125.25,-172.75 125.25,-172.75 119.25,-172.75 113.25,-166.75 113.25,-160.75 113.25,-160.75 113.25,-107.75 113.25,-107.75 113.25,-101.75 119.25,-95.75 125.25,-95.75 125.25,-95.75 292.75,-95.75 292.75,-95.75 298.75,-95.75 304.75,-101.75 304.75,-107.75 304.75,-107.75 304.75,-160.75 304.75,-160.75 304.75,-166.75 298.75,-172.75 292.75,-172.75\"/>\n",
       "<text text-anchor=\"middle\" x=\"209\" y=\"-155.45\" font-family=\"Helvetica,sans-Serif\" font-size=\"14.00\">serum_sodium &lt;= 143.0</text>\n",
       "<text text-anchor=\"middle\" x=\"209\" y=\"-138.2\" font-family=\"Helvetica,sans-Serif\" font-size=\"14.00\">samples = 42</text>\n",
       "<text text-anchor=\"middle\" x=\"209\" y=\"-120.95\" font-family=\"Helvetica,sans-Serif\" font-size=\"14.00\">value = [17, 25]</text>\n",
       "<text text-anchor=\"middle\" x=\"209\" y=\"-103.7\" font-family=\"Helvetica,sans-Serif\" font-size=\"14.00\">class = Death</text>\n",
       "</g>\n",
       "<!-- 1&#45;&gt;2 -->\n",
       "<g id=\"edge2\" class=\"edge\">\n",
       "<title>1&#45;&gt;2</title>\n",
       "<path fill=\"none\" stroke=\"black\" d=\"M318.34,-208.36C304.39,-199.04 289.34,-188.97 274.99,-179.38\"/>\n",
       "<polygon fill=\"black\" stroke=\"black\" points=\"277.21,-176.65 266.95,-174 273.32,-182.47 277.21,-176.65\"/>\n",
       "</g>\n",
       "<!-- 5 -->\n",
       "<g id=\"node6\" class=\"node\">\n",
       "<title>5</title>\n",
       "<path fill=\"#ea9b62\" stroke=\"black\" d=\"M449.5,-172.75C449.5,-172.75 334.5,-172.75 334.5,-172.75 328.5,-172.75 322.5,-166.75 322.5,-160.75 322.5,-160.75 322.5,-107.75 322.5,-107.75 322.5,-101.75 328.5,-95.75 334.5,-95.75 334.5,-95.75 449.5,-95.75 449.5,-95.75 455.5,-95.75 461.5,-101.75 461.5,-107.75 461.5,-107.75 461.5,-160.75 461.5,-160.75 461.5,-166.75 455.5,-172.75 449.5,-172.75\"/>\n",
       "<text text-anchor=\"middle\" x=\"392\" y=\"-155.45\" font-family=\"Helvetica,sans-Serif\" font-size=\"14.00\">age &lt;= 79.5</text>\n",
       "<text text-anchor=\"middle\" x=\"392\" y=\"-138.2\" font-family=\"Helvetica,sans-Serif\" font-size=\"14.00\">samples = 209</text>\n",
       "<text text-anchor=\"middle\" x=\"392\" y=\"-120.95\" font-family=\"Helvetica,sans-Serif\" font-size=\"14.00\">value = [173, 36]</text>\n",
       "<text text-anchor=\"middle\" x=\"392\" y=\"-103.7\" font-family=\"Helvetica,sans-Serif\" font-size=\"14.00\">class = No Death</text>\n",
       "</g>\n",
       "<!-- 1&#45;&gt;5 -->\n",
       "<g id=\"edge5\" class=\"edge\">\n",
       "<title>1&#45;&gt;5</title>\n",
       "<path fill=\"none\" stroke=\"black\" d=\"M380.8,-208.36C381.99,-200.59 383.26,-192.31 384.5,-184.21\"/>\n",
       "<polygon fill=\"black\" stroke=\"black\" points=\"387.94,-184.88 385.99,-174.46 381.02,-183.82 387.94,-184.88\"/>\n",
       "</g>\n",
       "<!-- 3 -->\n",
       "<g id=\"node4\" class=\"node\">\n",
       "<title>3</title>\n",
       "<path fill=\"#b0d8f5\" stroke=\"black\" d=\"M118,-59.75C118,-59.75 12,-59.75 12,-59.75 6,-59.75 0,-53.75 0,-47.75 0,-47.75 0,-12 0,-12 0,-6 6,0 12,0 12,0 118,0 118,0 124,0 130,-6 130,-12 130,-12 130,-47.75 130,-47.75 130,-53.75 124,-59.75 118,-59.75\"/>\n",
       "<text text-anchor=\"middle\" x=\"65\" y=\"-42.45\" font-family=\"Helvetica,sans-Serif\" font-size=\"14.00\">samples = 40</text>\n",
       "<text text-anchor=\"middle\" x=\"65\" y=\"-25.2\" font-family=\"Helvetica,sans-Serif\" font-size=\"14.00\">value = [15, 25]</text>\n",
       "<text text-anchor=\"middle\" x=\"65\" y=\"-7.95\" font-family=\"Helvetica,sans-Serif\" font-size=\"14.00\">class = Death</text>\n",
       "</g>\n",
       "<!-- 2&#45;&gt;3 -->\n",
       "<g id=\"edge3\" class=\"edge\">\n",
       "<title>2&#45;&gt;3</title>\n",
       "<path fill=\"none\" stroke=\"black\" d=\"M155.79,-95.42C142.64,-86.07 128.59,-76.08 115.56,-66.82\"/>\n",
       "<polygon fill=\"black\" stroke=\"black\" points=\"117.7,-64.05 107.53,-61.11 113.65,-69.75 117.7,-64.05\"/>\n",
       "</g>\n",
       "<!-- 4 -->\n",
       "<g id=\"node5\" class=\"node\">\n",
       "<title>4</title>\n",
       "<path fill=\"#e58139\" stroke=\"black\" d=\"M272,-59.75C272,-59.75 160,-59.75 160,-59.75 154,-59.75 148,-53.75 148,-47.75 148,-47.75 148,-12 148,-12 148,-6 154,0 160,0 160,0 272,0 272,0 278,0 284,-6 284,-12 284,-12 284,-47.75 284,-47.75 284,-53.75 278,-59.75 272,-59.75\"/>\n",
       "<text text-anchor=\"middle\" x=\"216\" y=\"-42.45\" font-family=\"Helvetica,sans-Serif\" font-size=\"14.00\">samples = 2</text>\n",
       "<text text-anchor=\"middle\" x=\"216\" y=\"-25.2\" font-family=\"Helvetica,sans-Serif\" font-size=\"14.00\">value = [2, 0]</text>\n",
       "<text text-anchor=\"middle\" x=\"216\" y=\"-7.95\" font-family=\"Helvetica,sans-Serif\" font-size=\"14.00\">class = No Death</text>\n",
       "</g>\n",
       "<!-- 2&#45;&gt;4 -->\n",
       "<g id=\"edge4\" class=\"edge\">\n",
       "<title>2&#45;&gt;4</title>\n",
       "<path fill=\"none\" stroke=\"black\" d=\"M211.59,-95.42C212.12,-87.61 212.68,-79.36 213.22,-71.46\"/>\n",
       "<polygon fill=\"black\" stroke=\"black\" points=\"216.7,-71.96 213.89,-61.74 209.72,-71.48 216.7,-71.96\"/>\n",
       "</g>\n",
       "<!-- 6 -->\n",
       "<g id=\"node7\" class=\"node\">\n",
       "<title>6</title>\n",
       "<path fill=\"#e99457\" stroke=\"black\" d=\"M442.5,-59.75C442.5,-59.75 327.5,-59.75 327.5,-59.75 321.5,-59.75 315.5,-53.75 315.5,-47.75 315.5,-47.75 315.5,-12 315.5,-12 315.5,-6 321.5,0 327.5,0 327.5,0 442.5,0 442.5,0 448.5,0 454.5,-6 454.5,-12 454.5,-12 454.5,-47.75 454.5,-47.75 454.5,-53.75 448.5,-59.75 442.5,-59.75\"/>\n",
       "<text text-anchor=\"middle\" x=\"385\" y=\"-42.45\" font-family=\"Helvetica,sans-Serif\" font-size=\"14.00\">samples = 195</text>\n",
       "<text text-anchor=\"middle\" x=\"385\" y=\"-25.2\" font-family=\"Helvetica,sans-Serif\" font-size=\"14.00\">value = [169, 26]</text>\n",
       "<text text-anchor=\"middle\" x=\"385\" y=\"-7.95\" font-family=\"Helvetica,sans-Serif\" font-size=\"14.00\">class = No Death</text>\n",
       "</g>\n",
       "<!-- 5&#45;&gt;6 -->\n",
       "<g id=\"edge6\" class=\"edge\">\n",
       "<title>5&#45;&gt;6</title>\n",
       "<path fill=\"none\" stroke=\"black\" d=\"M389.41,-95.42C388.88,-87.61 388.32,-79.36 387.78,-71.46\"/>\n",
       "<polygon fill=\"black\" stroke=\"black\" points=\"391.28,-71.48 387.11,-61.74 384.3,-71.96 391.28,-71.48\"/>\n",
       "</g>\n",
       "<!-- 7 -->\n",
       "<g id=\"node8\" class=\"node\">\n",
       "<title>7</title>\n",
       "<path fill=\"#88c4ef\" stroke=\"black\" d=\"M581.5,-59.75C581.5,-59.75 484.5,-59.75 484.5,-59.75 478.5,-59.75 472.5,-53.75 472.5,-47.75 472.5,-47.75 472.5,-12 472.5,-12 472.5,-6 478.5,0 484.5,0 484.5,0 581.5,0 581.5,0 587.5,0 593.5,-6 593.5,-12 593.5,-12 593.5,-47.75 593.5,-47.75 593.5,-53.75 587.5,-59.75 581.5,-59.75\"/>\n",
       "<text text-anchor=\"middle\" x=\"533\" y=\"-42.45\" font-family=\"Helvetica,sans-Serif\" font-size=\"14.00\">samples = 14</text>\n",
       "<text text-anchor=\"middle\" x=\"533\" y=\"-25.2\" font-family=\"Helvetica,sans-Serif\" font-size=\"14.00\">value = [4, 10]</text>\n",
       "<text text-anchor=\"middle\" x=\"533\" y=\"-7.95\" font-family=\"Helvetica,sans-Serif\" font-size=\"14.00\">class = Death</text>\n",
       "</g>\n",
       "<!-- 5&#45;&gt;7 -->\n",
       "<g id=\"edge7\" class=\"edge\">\n",
       "<title>5&#45;&gt;7</title>\n",
       "<path fill=\"none\" stroke=\"black\" d=\"M444.1,-95.42C456.98,-86.07 470.74,-76.08 483.49,-66.82\"/>\n",
       "<polygon fill=\"black\" stroke=\"black\" points=\"485.31,-69.83 491.34,-61.12 481.2,-64.16 485.31,-69.83\"/>\n",
       "</g>\n",
       "<!-- 9 -->\n",
       "<g id=\"node10\" class=\"node\">\n",
       "<title>9</title>\n",
       "<path fill=\"#399de5\" stroke=\"black\" d=\"M621.5,-164.12C621.5,-164.12 524.5,-164.12 524.5,-164.12 518.5,-164.12 512.5,-158.12 512.5,-152.12 512.5,-152.12 512.5,-116.38 512.5,-116.38 512.5,-110.38 518.5,-104.38 524.5,-104.38 524.5,-104.38 621.5,-104.38 621.5,-104.38 627.5,-104.38 633.5,-110.38 633.5,-116.38 633.5,-116.38 633.5,-152.12 633.5,-152.12 633.5,-158.12 627.5,-164.12 621.5,-164.12\"/>\n",
       "<text text-anchor=\"middle\" x=\"573\" y=\"-146.82\" font-family=\"Helvetica,sans-Serif\" font-size=\"14.00\">samples = 14</text>\n",
       "<text text-anchor=\"middle\" x=\"573\" y=\"-129.57\" font-family=\"Helvetica,sans-Serif\" font-size=\"14.00\">value = [0, 14]</text>\n",
       "<text text-anchor=\"middle\" x=\"573\" y=\"-112.33\" font-family=\"Helvetica,sans-Serif\" font-size=\"14.00\">class = Death</text>\n",
       "</g>\n",
       "<!-- 8&#45;&gt;9 -->\n",
       "<g id=\"edge9\" class=\"edge\">\n",
       "<title>8&#45;&gt;9</title>\n",
       "<path fill=\"none\" stroke=\"black\" d=\"M584.2,-208.36C582.59,-197.84 580.83,-186.39 579.2,-175.73\"/>\n",
       "<polygon fill=\"black\" stroke=\"black\" points=\"582.69,-175.41 577.72,-166.06 575.77,-176.47 582.69,-175.41\"/>\n",
       "</g>\n",
       "<!-- 10 -->\n",
       "<g id=\"node11\" class=\"node\">\n",
       "<title>10</title>\n",
       "<path fill=\"#b4daf5\" stroke=\"black\" d=\"M830.75,-172.75C830.75,-172.75 663.25,-172.75 663.25,-172.75 657.25,-172.75 651.25,-166.75 651.25,-160.75 651.25,-160.75 651.25,-107.75 651.25,-107.75 651.25,-101.75 657.25,-95.75 663.25,-95.75 663.25,-95.75 830.75,-95.75 830.75,-95.75 836.75,-95.75 842.75,-101.75 842.75,-107.75 842.75,-107.75 842.75,-160.75 842.75,-160.75 842.75,-166.75 836.75,-172.75 830.75,-172.75\"/>\n",
       "<text text-anchor=\"middle\" x=\"747\" y=\"-155.45\" font-family=\"Helvetica,sans-Serif\" font-size=\"14.00\">serum_sodium &lt;= 134.5</text>\n",
       "<text text-anchor=\"middle\" x=\"747\" y=\"-138.2\" font-family=\"Helvetica,sans-Serif\" font-size=\"14.00\">samples = 34</text>\n",
       "<text text-anchor=\"middle\" x=\"747\" y=\"-120.95\" font-family=\"Helvetica,sans-Serif\" font-size=\"14.00\">value = [13, 21]</text>\n",
       "<text text-anchor=\"middle\" x=\"747\" y=\"-103.7\" font-family=\"Helvetica,sans-Serif\" font-size=\"14.00\">class = Death</text>\n",
       "</g>\n",
       "<!-- 8&#45;&gt;10 -->\n",
       "<g id=\"edge10\" class=\"edge\">\n",
       "<title>8&#45;&gt;10</title>\n",
       "<path fill=\"none\" stroke=\"black\" d=\"M643.59,-208.36C656.66,-199.12 670.75,-189.16 684.2,-179.65\"/>\n",
       "<polygon fill=\"black\" stroke=\"black\" points=\"686,-182.66 692.15,-174.03 681.96,-176.95 686,-182.66\"/>\n",
       "</g>\n",
       "<!-- 11 -->\n",
       "<g id=\"node12\" class=\"node\">\n",
       "<title>11</title>\n",
       "<path fill=\"#77bced\" stroke=\"black\" d=\"M758.5,-59.75C758.5,-59.75 661.5,-59.75 661.5,-59.75 655.5,-59.75 649.5,-53.75 649.5,-47.75 649.5,-47.75 649.5,-12 649.5,-12 649.5,-6 655.5,0 661.5,0 661.5,0 758.5,0 758.5,0 764.5,0 770.5,-6 770.5,-12 770.5,-12 770.5,-47.75 770.5,-47.75 770.5,-53.75 764.5,-59.75 758.5,-59.75\"/>\n",
       "<text text-anchor=\"middle\" x=\"710\" y=\"-42.45\" font-family=\"Helvetica,sans-Serif\" font-size=\"14.00\">samples = 21</text>\n",
       "<text text-anchor=\"middle\" x=\"710\" y=\"-25.2\" font-family=\"Helvetica,sans-Serif\" font-size=\"14.00\">value = [5, 16]</text>\n",
       "<text text-anchor=\"middle\" x=\"710\" y=\"-7.95\" font-family=\"Helvetica,sans-Serif\" font-size=\"14.00\">class = Death</text>\n",
       "</g>\n",
       "<!-- 10&#45;&gt;11 -->\n",
       "<g id=\"edge11\" class=\"edge\">\n",
       "<title>10&#45;&gt;11</title>\n",
       "<path fill=\"none\" stroke=\"black\" d=\"M733.33,-95.42C730.44,-87.43 727.38,-78.98 724.47,-70.91\"/>\n",
       "<polygon fill=\"black\" stroke=\"black\" points=\"727.81,-69.87 721.12,-61.65 721.23,-72.25 727.81,-69.87\"/>\n",
       "</g>\n",
       "<!-- 12 -->\n",
       "<g id=\"node13\" class=\"node\">\n",
       "<title>12</title>\n",
       "<path fill=\"#f5d0b5\" stroke=\"black\" d=\"M913,-59.75C913,-59.75 801,-59.75 801,-59.75 795,-59.75 789,-53.75 789,-47.75 789,-47.75 789,-12 789,-12 789,-6 795,0 801,0 801,0 913,0 913,0 919,0 925,-6 925,-12 925,-12 925,-47.75 925,-47.75 925,-53.75 919,-59.75 913,-59.75\"/>\n",
       "<text text-anchor=\"middle\" x=\"857\" y=\"-42.45\" font-family=\"Helvetica,sans-Serif\" font-size=\"14.00\">samples = 13</text>\n",
       "<text text-anchor=\"middle\" x=\"857\" y=\"-25.2\" font-family=\"Helvetica,sans-Serif\" font-size=\"14.00\">value = [8, 5]</text>\n",
       "<text text-anchor=\"middle\" x=\"857\" y=\"-7.95\" font-family=\"Helvetica,sans-Serif\" font-size=\"14.00\">class = No Death</text>\n",
       "</g>\n",
       "<!-- 10&#45;&gt;12 -->\n",
       "<g id=\"edge12\" class=\"edge\">\n",
       "<title>10&#45;&gt;12</title>\n",
       "<path fill=\"none\" stroke=\"black\" d=\"M787.65,-95.42C797.3,-86.43 807.59,-76.86 817.21,-67.9\"/>\n",
       "<polygon fill=\"black\" stroke=\"black\" points=\"819.41,-70.64 824.35,-61.26 814.65,-65.51 819.41,-70.64\"/>\n",
       "</g>\n",
       "</g>\n",
       "</svg>\n"
      ],
      "text/plain": [
       "<graphviz.sources.Source at 0x7fa6b608bf90>"
      ]
     },
     "metadata": {},
     "output_type": "display_data"
    }
   ],
   "source": [
    "# Fill the input to the function\n",
    "visualize_tree(dec_tree, list(X_hf.columns), [\"No Death\", \"Death\"])"
   ]
  },
  {
   "cell_type": "markdown",
   "metadata": {
    "id": "ifOnPxbkt04h"
   },
   "source": [
    "### Building Decision Trees for Differentially Expressed Genes (DEGs)\n",
    "\n",
    "Now that we have demonstrated how to train a tree on the Heart Failure dataset, it's your turn to try and train one yourself. You will use the **gene expression dataset of asthma patients** to train a decision tree and predict whether an asthma patient took the medication by looking at their gene expression.\n",
    "\n",
    "The decision tree will identify the DEGs. The goal is to identify genes that can differentiate between the treatment group and the control group, potentially revealing key genes influenced by the medication.\n"
   ]
  },
  {
   "cell_type": "markdown",
   "metadata": {
    "id": "xRNNPqCC8_Ex"
   },
   "source": [
    "**Step 1: Load the Dataset**\n",
    "\n",
    "The dataset contains gene expression data from the smooth muscle tissue of the airways in asthma patients. This dataset includes two groups: a treatment group that has received the asthma medication dexamethasone, and a control group of asthma patients who have not received any medication. The dataset comprises eight samples, with four samples per group.\n",
    "\n",
    "Below, we read in and pre-process the dataset"
   ]
  },
  {
   "cell_type": "code",
   "execution_count": 6,
   "metadata": {
    "id": "qjVu4sgH9NqV"
   },
   "outputs": [
    {
     "name": "stdout",
     "output_type": "stream",
     "text": [
      "(8, 33469) (8,)\n"
     ]
    }
   ],
   "source": [
    "import pandas as pd\n",
    "data = pd.read_csv(\"airway_rawcounts.csv\")\n",
    "data = data.set_index(\"ensgene\")\n",
    "\n",
    "# Step 1: calculating the sum of counts per gene\n",
    "row_sums = data.sum(axis=1)\n",
    "\n",
    "# Step 2: filter the DataFrame to retain only rows with nonzero total counts\n",
    "data = data[row_sums > 0]\n",
    "# Transpose the DataFrame because it is assumed each row is a data sample\n",
    "data = data.T\n",
    "metadata = pd.DataFrame({\n",
    "    'Condition': ['C', 'T', 'C', 'T', 'C', 'T', 'C', 'T']}, index=data.index)\n",
    "X = data\n",
    "# Create a list of prediction results for the training dataset\n",
    "y = metadata['Condition'].values\n",
    "print(X.shape, y.shape)"
   ]
  },
  {
   "cell_type": "markdown",
   "metadata": {
    "id": "jz5Fr0SyUxhp"
   },
   "source": [
    "**Q2: Train a decision tree on the DEG data and visualize it. What is the number of decision nodes in this tree, and what gene does the root node split on? What does the selected gene in the decision node mean?**\n",
    "\n",
    "<span style=\"background-color: #FFD700\">**Complete the code cell below**</span>"
   ]
  },
  {
   "cell_type": "code",
   "execution_count": 7,
   "metadata": {
    "id": "T8bL4KJ1VG5a"
   },
   "outputs": [
    {
     "data": {
      "image/svg+xml": [
       "<?xml version=\"1.0\" encoding=\"UTF-8\" standalone=\"no\"?>\n",
       "<!DOCTYPE svg PUBLIC \"-//W3C//DTD SVG 1.1//EN\"\n",
       " \"http://www.w3.org/Graphics/SVG/1.1/DTD/svg11.dtd\">\n",
       "<!-- Generated by graphviz version 9.0.0 (20231125.0833)\n",
       " -->\n",
       "<!-- Title: Tree Pages: 1 -->\n",
       "<svg width=\"250pt\" height=\"181pt\"\n",
       " viewBox=\"0.00 0.00 250.00 180.75\" xmlns=\"http://www.w3.org/2000/svg\" xmlns:xlink=\"http://www.w3.org/1999/xlink\">\n",
       "<g id=\"graph0\" class=\"graph\" transform=\"scale(1 1) rotate(0) translate(4 176.75)\">\n",
       "<title>Tree</title>\n",
       "<polygon fill=\"white\" stroke=\"none\" points=\"-4,4 -4,-176.75 246,-176.75 246,4 -4,4\"/>\n",
       "<!-- 0 -->\n",
       "<g id=\"node1\" class=\"node\">\n",
       "<title>0</title>\n",
       "<path fill=\"#ffffff\" stroke=\"black\" d=\"M218.25,-172.75C218.25,-172.75 23.75,-172.75 23.75,-172.75 17.75,-172.75 11.75,-166.75 11.75,-160.75 11.75,-160.75 11.75,-107.75 11.75,-107.75 11.75,-101.75 17.75,-95.75 23.75,-95.75 23.75,-95.75 218.25,-95.75 218.25,-95.75 224.25,-95.75 230.25,-101.75 230.25,-107.75 230.25,-107.75 230.25,-160.75 230.25,-160.75 230.25,-166.75 224.25,-172.75 218.25,-172.75\"/>\n",
       "<text text-anchor=\"middle\" x=\"121\" y=\"-155.45\" font-family=\"Helvetica,sans-Serif\" font-size=\"14.00\">ENSG00000187288 &lt;= 11.0</text>\n",
       "<text text-anchor=\"middle\" x=\"121\" y=\"-138.2\" font-family=\"Helvetica,sans-Serif\" font-size=\"14.00\">samples = 8</text>\n",
       "<text text-anchor=\"middle\" x=\"121\" y=\"-120.95\" font-family=\"Helvetica,sans-Serif\" font-size=\"14.00\">value = [4, 4]</text>\n",
       "<text text-anchor=\"middle\" x=\"121\" y=\"-103.7\" font-family=\"Helvetica,sans-Serif\" font-size=\"14.00\">class = C</text>\n",
       "</g>\n",
       "<!-- 1 -->\n",
       "<g id=\"node2\" class=\"node\">\n",
       "<title>1</title>\n",
       "<path fill=\"#e58139\" stroke=\"black\" d=\"M100,-59.75C100,-59.75 12,-59.75 12,-59.75 6,-59.75 0,-53.75 0,-47.75 0,-47.75 0,-12 0,-12 0,-6 6,0 12,0 12,0 100,0 100,0 106,0 112,-6 112,-12 112,-12 112,-47.75 112,-47.75 112,-53.75 106,-59.75 100,-59.75\"/>\n",
       "<text text-anchor=\"middle\" x=\"56\" y=\"-42.45\" font-family=\"Helvetica,sans-Serif\" font-size=\"14.00\">samples = 4</text>\n",
       "<text text-anchor=\"middle\" x=\"56\" y=\"-25.2\" font-family=\"Helvetica,sans-Serif\" font-size=\"14.00\">value = [4, 0]</text>\n",
       "<text text-anchor=\"middle\" x=\"56\" y=\"-7.95\" font-family=\"Helvetica,sans-Serif\" font-size=\"14.00\">class = C</text>\n",
       "</g>\n",
       "<!-- 0&#45;&gt;1 -->\n",
       "<g id=\"edge1\" class=\"edge\">\n",
       "<title>0&#45;&gt;1</title>\n",
       "<path fill=\"none\" stroke=\"black\" d=\"M96.98,-95.42C91.68,-87.07 86.05,-78.21 80.72,-69.81\"/>\n",
       "<polygon fill=\"black\" stroke=\"black\" points=\"83.76,-68.07 75.45,-61.51 77.86,-71.83 83.76,-68.07\"/>\n",
       "<text text-anchor=\"middle\" x=\"69.19\" y=\"-79.95\" font-family=\"Helvetica,sans-Serif\" font-size=\"14.00\">True</text>\n",
       "</g>\n",
       "<!-- 2 -->\n",
       "<g id=\"node3\" class=\"node\">\n",
       "<title>2</title>\n",
       "<path fill=\"#399de5\" stroke=\"black\" d=\"M230,-59.75C230,-59.75 142,-59.75 142,-59.75 136,-59.75 130,-53.75 130,-47.75 130,-47.75 130,-12 130,-12 130,-6 136,0 142,0 142,0 230,0 230,0 236,0 242,-6 242,-12 242,-12 242,-47.75 242,-47.75 242,-53.75 236,-59.75 230,-59.75\"/>\n",
       "<text text-anchor=\"middle\" x=\"186\" y=\"-42.45\" font-family=\"Helvetica,sans-Serif\" font-size=\"14.00\">samples = 4</text>\n",
       "<text text-anchor=\"middle\" x=\"186\" y=\"-25.2\" font-family=\"Helvetica,sans-Serif\" font-size=\"14.00\">value = [0, 4]</text>\n",
       "<text text-anchor=\"middle\" x=\"186\" y=\"-7.95\" font-family=\"Helvetica,sans-Serif\" font-size=\"14.00\">class = T</text>\n",
       "</g>\n",
       "<!-- 0&#45;&gt;2 -->\n",
       "<g id=\"edge2\" class=\"edge\">\n",
       "<title>0&#45;&gt;2</title>\n",
       "<path fill=\"none\" stroke=\"black\" d=\"M145.02,-95.42C150.32,-87.07 155.95,-78.21 161.28,-69.81\"/>\n",
       "<polygon fill=\"black\" stroke=\"black\" points=\"164.14,-71.83 166.55,-61.51 158.24,-68.07 164.14,-71.83\"/>\n",
       "<text text-anchor=\"middle\" x=\"172.81\" y=\"-79.95\" font-family=\"Helvetica,sans-Serif\" font-size=\"14.00\">False</text>\n",
       "</g>\n",
       "</g>\n",
       "</svg>\n"
      ],
      "text/plain": [
       "<graphviz.sources.Source at 0x7fa63ff5c350>"
      ]
     },
     "metadata": {},
     "output_type": "display_data"
    }
   ],
   "source": [
    "## YOUR TURN\n",
    "dtree = DecisionTreeClassifier()\n",
    "dtree.fit(X, y)\n",
    "visualize_tree(dtree, list(X.columns), [\"C\", \"T\"])"
   ]
  },
  {
   "cell_type": "markdown",
   "metadata": {},
   "source": [
    "<span style=\"background-color: #FFD700\">**Write your answer below**</span>\n",
    "\n",
    "Answer: There is only 1 decision node. It means that the decision tree determines if a patient is in the control or treatment group by only looking at ENSG000000123610. This specific gene is the key factor that drives the predictions."
   ]
  },
  {
   "cell_type": "markdown",
   "metadata": {
    "id": "faLEKlPp57TG"
   },
   "source": [
    "As you can see, the code for training a decision tree is quite simple. However, there are lots of things happening behind the scenes."
   ]
  },
  {
   "cell_type": "markdown",
   "metadata": {
    "id": "e5iK6nN80C0V"
   },
   "source": [
    "### Decision Tree Training\n",
    "The core idea behind Decision Tree is to recursively split the dataset into smaller subsets using a decision rule. How does the algorithm decide which feature to select? To understand this, we need to understand the concept of **entropy**."
   ]
  },
  {
   "cell_type": "markdown",
   "metadata": {
    "id": "7VrTzD42JSSQ"
   },
   "source": [
    "#### **Entropy**\n",
    "Entropy is a measure of the amount of uncertainty in the data. Intuitively, for a classification problem, we can understand it as \"if we were to randomly select a point, how confident are we that we know what the point will be.\"\n",
    "\n",
    "Consider the following groups:\n",
    "\n",
    "![name](images/week%206%20entropy%20graph%201.png)\n",
    "\n",
    "\n",
    "If we were to randomly select a data point from Group A, we have a 2/3 chance of the point being green and a 1/3 chance of it being purple, therefore, we can say we are relatively confident that a point chosen from Group A will be green. However, in Group B, there is a 50/50 chance that the point will be green or purple, therefore, we are not confident that we can predict the result of randomly choosing a point. In this case, we can say that Group B has a *higher entropy* than Group A.\n",
    "\n",
    "A group has zero entropy if there is only one class in the group."
   ]
  },
  {
   "cell_type": "markdown",
   "metadata": {
    "id": "gZBhwb6hjI8T"
   },
   "source": [
    "#### **Splitting with Entropy**\n",
    "\n",
    "A decision tree uses entropy to make decisions. At each internal node, the decision tree examines the points that have reached it and chooses a decision rule that creates two subgroups with low entropy. Given a set of points, the decision tree will generate a few candidate decision rules that split the space. **The tree will choose the split that reduces entropy the most**.\n"
   ]
  },
  {
   "cell_type": "markdown",
   "metadata": {
    "id": "ClhW-wPHIDvc"
   },
   "source": [
    "**Q3: Below, we plot two different candidate splits. Which split will the decision tree choose: Candidate 1 or Candidate 2? Justify your answer.**\n",
    "\n",
    "![exm](images/candidate_splits.png)"
   ]
  },
  {
   "cell_type": "markdown",
   "metadata": {
    "id": "u9r0I0za7sXV"
   },
   "source": [
    "<span style=\"background-color: #FFD700\">**Write your answer below**</span>\n",
    "\n",
    "Answer: Split 1 as the left side becomes completely pure (zero entropy), and the right side isolates orange points.\n",
    "\r\n"
   ]
  },
  {
   "cell_type": "markdown",
   "metadata": {
    "id": "fm26hJLUJJ8S"
   },
   "source": [
    "#### **Step-by-Step Construction**\n",
    "Decision tree construction is done in a step-by-step manner, starting with the root node. The algorithm can be summarized as follows:\n",
    "\n",
    "1. Observe the group of data points and create a set of candidate decision rules.\n",
    "2. Choose the decision rule that reduces entropy the most and add it to the tree as an internal node. We can then split the group into two groups.\n",
    "3. Looking at the two new groups, pick the group that has the most entropy and repeat steps 1 and 2.\n",
    "4. If we cannot split up the two groups further, add leaves to the tree with the majority class of each node. Then move on to another set of groups and repeat steps 1-4.\n",
    "\n",
    "We then simply repeat the above procedure until various stopping conditions are met."
   ]
  },
  {
   "cell_type": "markdown",
   "metadata": {
    "id": "yPxhiGwN8Vz5"
   },
   "source": [
    "#### **Splitting Stopping Conditions**\n",
    "\n",
    "There are various conditions in which a node cannot be split, but the main ones are the following:\n",
    "1. **Maximum Tree Depth:** The node we have added has hit the maximum depth we allow.\n",
    "2. **Not Enough Samples**: We cannot split up the space if there are not enough points to create two splits that have a certain number of points. For example, if we split the sample, and one split only has one sample, we may not accept that split.\n",
    "3. **No Reduction in Entropy**: The resultant groups from the split are already pure, and there is no possible reduction in entropy that will result from adding a new split.\n",
    "\n",
    "We can customize these stopping conditions through various hyperparameters.\n",
    "1. `max_depth`: This hyperparameter controls how deep the tree can go.\n",
    "2. `min_samples_leaf`: The minimum number of samples that should reach a leaf.\n",
    "3. `min_impurity_decrease`: The minimum entropy reduction needed to justify a split.\n"
   ]
  },
  {
   "cell_type": "markdown",
   "metadata": {
    "id": "fudUfmAxSydP"
   },
   "source": [
    "#### **Stopping Conditions and Overfitting**\n",
    "One problem we often have in machine learning is the problem of **overfitting**. Overfitting is a situation in machine learning where a model becomes too complex and captures not only the true patterns in the training data but also the noise and outliers. As a result, **the model performs exceptionally well on the training data but struggles to generalize to new, unseen data,** leading to poor performance in real-world applications.\n",
    "\n",
    "Since decision trees are very flexible, they can easily create many splits that perfectly classify the training data. However, these splits may be based on patterns that do not hold in other data sets, leading to a model that is too specialized. When a decision tree overfits, it may have many branches and leaf nodes, capturing subtle and irrelevant distinctions that don't generalize beyond the training set. Each hyperparameter above allows us to limit this problem.\n",
    "\n",
    "To identify overfitting, we often split our data into two different sets:\n",
    "* Training set: This is the data our model sees and trains on.\n",
    "* Testing set: We create this set by removing data from the training set, making sure the model never sees these samples.\n",
    "\n",
    "We split the heart failure dataset into the train and test sets below:"
   ]
  },
  {
   "cell_type": "code",
   "execution_count": 8,
   "metadata": {
    "id": "axGt9m-pVa9h"
   },
   "outputs": [],
   "source": [
    "from sklearn.model_selection import train_test_split\n",
    "X_train, X_test, y_train, y_test = train_test_split(X_hf, y_hf, test_size=0.2, random_state=42)"
   ]
  },
  {
   "cell_type": "markdown",
   "metadata": {
    "id": "jP5IravFSth2"
   },
   "source": [
    "##### **Max Depth:**\n",
    "\n",
    "The first parameter used to control overfitting is `max_depth`. Since every extra depth of the tree doubles the number of leaves, a sufficiently deep tree eventually assigns each training sample to its own leaf. This over-complexity tends to fit into noise instead of actual trends."
   ]
  },
  {
   "cell_type": "markdown",
   "metadata": {
    "id": "u5wHZ8yVWgCm"
   },
   "source": [
    "**Q4: Test two different values of max_depth, one small tree (<= 3) and one large tree (>=5), and report the train AND test accuracy for both trees. Which depth do you think is overfitting and why?**\n",
    "> Hint: Try using the clf.score(...) built into the decision tree classifier or the accuracy_score function from sklearn metrics.\n",
    "\n",
    "<span style=\"background-color: #FFD700\">**Complete the code cell below**</span>"
   ]
  },
  {
   "cell_type": "code",
   "execution_count": 9,
   "metadata": {
    "id": "cyop_sohWpEJ"
   },
   "outputs": [
    {
     "name": "stdout",
     "output_type": "stream",
     "text": [
      "0.8117154811715481\n",
      "0.7333333333333333\n"
     ]
    }
   ],
   "source": [
    "## Your Code Here\n",
    "dt1 = DecisionTreeClassifier(max_depth=3)\n",
    "dt1.fit(X_train, y_train)\n",
    "print(dt1.score(X_train, y_train))\n",
    "print(dt1.score(X_test, y_test))"
   ]
  },
  {
   "cell_type": "code",
   "execution_count": 14,
   "metadata": {
    "id": "-YgDHsKAWpGx"
   },
   "outputs": [
    {
     "name": "stdout",
     "output_type": "stream",
     "text": [
      "0.9916317991631799\n",
      "0.6666666666666666\n"
     ]
    }
   ],
   "source": [
    "## Your Code Here\n",
    "dt2 = DecisionTreeClassifier(max_depth=10)\n",
    "dt2.fit(X_train, y_train)\n",
    "print(dt2.score(X_train, y_train))\n",
    "print(dt2.score(X_test, y_test))"
   ]
  },
  {
   "cell_type": "markdown",
   "metadata": {
    "id": "u9r0I0za7sXV"
   },
   "source": [
    "<span style=\"background-color: #FFD700\">**Write your answer below**</span>\n",
    "\n",
    "Answer: The second one is overfitting because the accuracy for the training set is exceptionally high, while the accuracy is not good enough for the testing set. / There is a wide accuracy gap between the training set and the testing set."
   ]
  },
  {
   "cell_type": "markdown",
   "metadata": {
    "id": "19ppe6CkeeOR"
   },
   "source": [
    "##### **Minimum Samples Per Leaf**\n",
    "Another way to avoid overfitting is to specify that there must be more than one point in each leaf. This will force the tree to focus on patterns that appear multiple times, making it more robust to noise. This also prevents deep trees from assigning 1 leaf per point. Below we try two different values for a tree of `max_depth` 10."
   ]
  },
  {
   "cell_type": "code",
   "execution_count": 15,
   "metadata": {
    "id": "rsZ_eRBmffMq"
   },
   "outputs": [
    {
     "name": "stdout",
     "output_type": "stream",
     "text": [
      "0.9916317991631799\n",
      "0.6833333333333333\n"
     ]
    }
   ],
   "source": [
    "dt1 = DecisionTreeClassifier(min_samples_leaf=1, max_depth = 10)\n",
    "dt1.fit(X_train, y_train)\n",
    "print(dt1.score(X_train, y_train))\n",
    "print(dt1.score(X_test, y_test))"
   ]
  },
  {
   "cell_type": "code",
   "execution_count": 16,
   "metadata": {
    "id": "-TDl8trCfqin"
   },
   "outputs": [
    {
     "name": "stdout",
     "output_type": "stream",
     "text": [
      "0.9037656903765691\n",
      "0.7\n"
     ]
    }
   ],
   "source": [
    "dt1 = DecisionTreeClassifier(min_samples_leaf=4, max_depth = 10)\n",
    "dt1.fit(X_train, y_train)\n",
    "print(dt1.score(X_train, y_train))\n",
    "print(dt1.score(X_test, y_test))"
   ]
  },
  {
   "cell_type": "markdown",
   "metadata": {
    "id": "y3pvRKshhqI2"
   },
   "source": [
    "**Q5: When we increased the minimum samples per leaf, what trends did you observe in the training and testing accuracy?**"
   ]
  },
  {
   "cell_type": "markdown",
   "metadata": {
    "id": "u9r0I0za7sXV"
   },
   "source": [
    "<span style=\"background-color: #FFD700\">**Write your answer below**</span>\n",
    "\n",
    "Answer: Increase in testing accuracy, decrease in training accuracy.\r",
    "\r\n"
   ]
  },
  {
   "cell_type": "markdown",
   "metadata": {
    "id": "b9x-lVJhjkDv"
   },
   "source": [
    "##### **Minimum Reduction in Entropy**\n",
    "While the goal of each node is to reduce entropy in each split, sometimes to promote generalization, we don't want to completely purify a given split, as sometimes data can be noisy in real life. To control this, we set the `min_impurity_decrease` parameter. If the split isn't \"strong enough,\" the tree won't make the split. Below, we increase the `min_impurity_decrease` value from 0.0 to 0.01 for a very deep tree. Notice how the training accuracy significantly decreased, but the testing accuracy significantly increased.\n"
   ]
  },
  {
   "cell_type": "code",
   "execution_count": 17,
   "metadata": {
    "id": "aIw7rpDUk9Rp"
   },
   "outputs": [
    {
     "name": "stdout",
     "output_type": "stream",
     "text": [
      "0.9916317991631799\n",
      "0.6333333333333333\n"
     ]
    }
   ],
   "source": [
    "dt1 = DecisionTreeClassifier(min_impurity_decrease = 0.00, max_depth=10)\n",
    "dt1.fit(X_train, y_train)\n",
    "print(dt1.score(X_train, y_train))\n",
    "print(dt1.score(X_test, y_test))"
   ]
  },
  {
   "cell_type": "code",
   "execution_count": 18,
   "metadata": {
    "id": "Bgi9d6d_kfev"
   },
   "outputs": [
    {
     "name": "stdout",
     "output_type": "stream",
     "text": [
      "0.8117154811715481\n",
      "0.7333333333333333\n"
     ]
    }
   ],
   "source": [
    "dt2 = DecisionTreeClassifier(min_impurity_decrease =0.01, max_depth = 10)\n",
    "dt2.fit(X_train, y_train)\n",
    "print(dt2.score(X_train, y_train))\n",
    "print(dt2.score(X_test, y_test))"
   ]
  },
  {
   "cell_type": "markdown",
   "metadata": {
    "id": "3JCPA0qLzarH"
   },
   "source": [
    "## **Graded Exercise: (5 marks)**"
   ]
  },
  {
   "cell_type": "markdown",
   "metadata": {
    "id": "PFjGAU7mjHTD"
   },
   "source": [
    "**GQ1 (2 marks): In the cell below, we load in the breast cancer dataset for you. Fit decision trees with depths between 1-6 (1,2,...,6) and plot the training and testing accuracies for each tree. Do any of the trees overfit, and if so, at what depth?**\n",
    "\n",
    "<span style=\"background-color: #FFD700\">**Write your code below**</span> "
   ]
  },
  {
   "cell_type": "code",
   "execution_count": 19,
   "metadata": {
    "id": "ITBYp5srjHWL"
   },
   "outputs": [],
   "source": [
    "from sklearn.datasets import load_breast_cancer\n",
    "import matplotlib.pyplot as plt\n",
    "from sklearn.model_selection import train_test_split\n",
    "from sklearn.metrics import accuracy_score\n",
    "from sklearn.tree import DecisionTreeClassifier\n",
    "\n",
    "data = load_breast_cancer()\n",
    "X = data.data\n",
    "y = data.target\n",
    "\n",
    "X_train, X_test, y_train, y_test = train_test_split(X, y, test_size=0.2, random_state=42)\n",
    "feature_names = data.feature_names\n"
   ]
  },
  {
   "cell_type": "code",
   "execution_count": 20,
   "metadata": {
    "id": "5wUInhBclEEG"
   },
   "outputs": [
    {
     "data": {
      "image/png": "[encoded data removed]",
      "text/plain": [
       "<Figure size 640x480 with 1 Axes>"
      ]
     },
     "metadata": {},
     "output_type": "display_data"
    }
   ],
   "source": [
    "depths = range(1, 7)\n",
    "# Loop through different depths and collect the train and test accuracy\n",
    "train_accs = []\n",
    "test_accs = []\n",
    "\n",
    "# YOUR CODE HERE: fit decision trees with depth in depths\n",
    "for max_depth in depths:\n",
    "  dec_tree = DecisionTreeClassifier(random_state = 42, max_depth=max_depth)\n",
    "  dec_tree.fit(X_train, y_train)\n",
    "  train_accs.append(accuracy_score(y_train, dec_tree.predict(X_train)))\n",
    "  test_accs.append(accuracy_score(y_test, dec_tree.predict(X_test)))\n",
    "\n",
    "# YOUR CODE HERE: plot the training and testing accuracies across depths\n",
    "plt.plot(depths, train_accs, label=\"Training Accuracy\")\n",
    "plt.plot(depths, test_accs, label=\"Testing Accuracy\")\n",
    "plt.xlabel(\"Depth\")\n",
    "plt.ylabel(\"Accuracy\")\n",
    "plt.legend()\n",
    "plt.show()"
   ]
  },
  {
   "cell_type": "markdown",
   "metadata": {
    "id": "OHg_2-MGq4vW"
   },
   "source": [
    "<span style=\"background-color: #FFD700\">**Write your answer below**</span>\n",
    "\n",
    "Answer: The Best Depth is 3-5 (because it reaches the highest testing accuracy). The tree starts overfitting at depth 6 because the test accuracy starts to drop.\r\n"
   ]
  },
  {
   "cell_type": "markdown",
   "metadata": {
    "id": "U1MzeFNloGNg"
   },
   "source": [
    "**GQ2 (2 marks): From the above question, pick the decision tree with the highest testing accuracy and visualize it. What feature does the tree split on at the root node? Additionally, how many leaf nodes are there?**\n",
    "\n",
    "<span style=\"background-color: #FFD700\">**Write your code below**</span> \n"
   ]
  },
  {
   "cell_type": "code",
   "execution_count": 21,
   "metadata": {
    "id": "N38zNNIqoFdN"
   },
   "outputs": [
    {
     "data": {
      "image/svg+xml": [
       "<?xml version=\"1.0\" encoding=\"UTF-8\" standalone=\"no\"?>\n",
       "<!DOCTYPE svg PUBLIC \"-//W3C//DTD SVG 1.1//EN\"\n",
       " \"http://www.w3.org/Graphics/SVG/1.1/DTD/svg11.dtd\">\n",
       "<!-- Generated by graphviz version 9.0.0 (20231125.0833)\n",
       " -->\n",
       "<!-- Title: Tree Pages: 1 -->\n",
       "<svg width=\"1188pt\" height=\"407pt\"\n",
       " viewBox=\"0.00 0.00 1187.75 406.75\" xmlns=\"http://www.w3.org/2000/svg\" xmlns:xlink=\"http://www.w3.org/1999/xlink\">\n",
       "<g id=\"graph0\" class=\"graph\" transform=\"scale(1 1) rotate(0) translate(4 402.75)\">\n",
       "<title>Tree</title>\n",
       "<polygon fill=\"white\" stroke=\"none\" points=\"-4,4 -4,-402.75 1183.75,-402.75 1183.75,4 -4,4\"/>\n",
       "<!-- 0 -->\n",
       "<g id=\"node1\" class=\"node\">\n",
       "<title>0</title>\n",
       "<path fill=\"#aed7f4\" stroke=\"black\" d=\"M658.62,-398.75C658.62,-398.75 445.38,-398.75 445.38,-398.75 439.38,-398.75 433.38,-392.75 433.38,-386.75 433.38,-386.75 433.38,-333.75 433.38,-333.75 433.38,-327.75 439.38,-321.75 445.38,-321.75 445.38,-321.75 658.62,-321.75 658.62,-321.75 664.62,-321.75 670.62,-327.75 670.62,-333.75 670.62,-333.75 670.62,-386.75 670.62,-386.75 670.62,-392.75 664.62,-398.75 658.62,-398.75\"/>\n",
       "<text text-anchor=\"middle\" x=\"552\" y=\"-381.45\" font-family=\"Helvetica,sans-Serif\" font-size=\"14.00\">mean concave points &lt;= 0.051</text>\n",
       "<text text-anchor=\"middle\" x=\"552\" y=\"-364.2\" font-family=\"Helvetica,sans-Serif\" font-size=\"14.00\">samples = 455</text>\n",
       "<text text-anchor=\"middle\" x=\"552\" y=\"-346.95\" font-family=\"Helvetica,sans-Serif\" font-size=\"14.00\">value = [169, 286]</text>\n",
       "<text text-anchor=\"middle\" x=\"552\" y=\"-329.7\" font-family=\"Helvetica,sans-Serif\" font-size=\"14.00\">class = benign</text>\n",
       "</g>\n",
       "<!-- 1 -->\n",
       "<g id=\"node2\" class=\"node\">\n",
       "<title>1</title>\n",
       "<path fill=\"#45a3e7\" stroke=\"black\" d=\"M496.88,-285.75C496.88,-285.75 345.12,-285.75 345.12,-285.75 339.12,-285.75 333.12,-279.75 333.12,-273.75 333.12,-273.75 333.12,-220.75 333.12,-220.75 333.12,-214.75 339.12,-208.75 345.12,-208.75 345.12,-208.75 496.88,-208.75 496.88,-208.75 502.88,-208.75 508.88,-214.75 508.88,-220.75 508.88,-220.75 508.88,-273.75 508.88,-273.75 508.88,-279.75 502.88,-285.75 496.88,-285.75\"/>\n",
       "<text text-anchor=\"middle\" x=\"421\" y=\"-268.45\" font-family=\"Helvetica,sans-Serif\" font-size=\"14.00\">worst radius &lt;= 16.83</text>\n",
       "<text text-anchor=\"middle\" x=\"421\" y=\"-251.2\" font-family=\"Helvetica,sans-Serif\" font-size=\"14.00\">samples = 282</text>\n",
       "<text text-anchor=\"middle\" x=\"421\" y=\"-233.95\" font-family=\"Helvetica,sans-Serif\" font-size=\"14.00\">value = [16, 266]</text>\n",
       "<text text-anchor=\"middle\" x=\"421\" y=\"-216.7\" font-family=\"Helvetica,sans-Serif\" font-size=\"14.00\">class = benign</text>\n",
       "</g>\n",
       "<!-- 0&#45;&gt;1 -->\n",
       "<g id=\"edge1\" class=\"edge\">\n",
       "<title>0&#45;&gt;1</title>\n",
       "<path fill=\"none\" stroke=\"black\" d=\"M507.28,-321.36C496.64,-312.34 485.18,-302.63 474.2,-293.32\"/>\n",
       "<polygon fill=\"black\" stroke=\"black\" points=\"476.56,-290.74 466.67,-286.95 472.04,-296.08 476.56,-290.74\"/>\n",
       "<text text-anchor=\"middle\" x=\"467.57\" y=\"-306.21\" font-family=\"Helvetica,sans-Serif\" font-size=\"14.00\">True</text>\n",
       "</g>\n",
       "<!-- 8 -->\n",
       "<g id=\"node9\" class=\"node\">\n",
       "<title>8</title>\n",
       "<path fill=\"#e89153\" stroke=\"black\" d=\"M800.25,-285.75C800.25,-285.75 587.75,-285.75 587.75,-285.75 581.75,-285.75 575.75,-279.75 575.75,-273.75 575.75,-273.75 575.75,-220.75 575.75,-220.75 575.75,-214.75 581.75,-208.75 587.75,-208.75 587.75,-208.75 800.25,-208.75 800.25,-208.75 806.25,-208.75 812.25,-214.75 812.25,-220.75 812.25,-220.75 812.25,-273.75 812.25,-273.75 812.25,-279.75 806.25,-285.75 800.25,-285.75\"/>\n",
       "<text text-anchor=\"middle\" x=\"694\" y=\"-268.45\" font-family=\"Helvetica,sans-Serif\" font-size=\"14.00\">worst concave points &lt;= 0.147</text>\n",
       "<text text-anchor=\"middle\" x=\"694\" y=\"-251.2\" font-family=\"Helvetica,sans-Serif\" font-size=\"14.00\">samples = 173</text>\n",
       "<text text-anchor=\"middle\" x=\"694\" y=\"-233.95\" font-family=\"Helvetica,sans-Serif\" font-size=\"14.00\">value = [153, 20]</text>\n",
       "<text text-anchor=\"middle\" x=\"694\" y=\"-216.7\" font-family=\"Helvetica,sans-Serif\" font-size=\"14.00\">class = malignant</text>\n",
       "</g>\n",
       "<!-- 0&#45;&gt;8 -->\n",
       "<g id=\"edge8\" class=\"edge\">\n",
       "<title>0&#45;&gt;8</title>\n",
       "<path fill=\"none\" stroke=\"black\" d=\"M600.47,-321.36C612.12,-312.25 624.68,-302.44 636.69,-293.05\"/>\n",
       "<polygon fill=\"black\" stroke=\"black\" points=\"638.83,-295.82 644.55,-286.9 634.52,-290.3 638.83,-295.82\"/>\n",
       "<text text-anchor=\"middle\" x=\"642.71\" y=\"-306.11\" font-family=\"Helvetica,sans-Serif\" font-size=\"14.00\">False</text>\n",
       "</g>\n",
       "<!-- 2 -->\n",
       "<g id=\"node3\" class=\"node\">\n",
       "<title>2</title>\n",
       "<path fill=\"#3d9fe6\" stroke=\"black\" d=\"M281,-172.75C281,-172.75 157,-172.75 157,-172.75 151,-172.75 145,-166.75 145,-160.75 145,-160.75 145,-107.75 145,-107.75 145,-101.75 151,-95.75 157,-95.75 157,-95.75 281,-95.75 281,-95.75 287,-95.75 293,-101.75 293,-107.75 293,-107.75 293,-160.75 293,-160.75 293,-166.75 287,-172.75 281,-172.75\"/>\n",
       "<text text-anchor=\"middle\" x=\"219\" y=\"-155.45\" font-family=\"Helvetica,sans-Serif\" font-size=\"14.00\">area error &lt;= 48.7</text>\n",
       "<text text-anchor=\"middle\" x=\"219\" y=\"-138.2\" font-family=\"Helvetica,sans-Serif\" font-size=\"14.00\">samples = 263</text>\n",
       "<text text-anchor=\"middle\" x=\"219\" y=\"-120.95\" font-family=\"Helvetica,sans-Serif\" font-size=\"14.00\">value = [5, 258]</text>\n",
       "<text text-anchor=\"middle\" x=\"219\" y=\"-103.7\" font-family=\"Helvetica,sans-Serif\" font-size=\"14.00\">class = benign</text>\n",
       "</g>\n",
       "<!-- 1&#45;&gt;2 -->\n",
       "<g id=\"edge2\" class=\"edge\">\n",
       "<title>1&#45;&gt;2</title>\n",
       "<path fill=\"none\" stroke=\"black\" d=\"M352.05,-208.36C334.59,-198.77 315.71,-188.39 297.81,-178.56\"/>\n",
       "<polygon fill=\"black\" stroke=\"black\" points=\"299.76,-175.63 289.31,-173.89 296.39,-181.77 299.76,-175.63\"/>\n",
       "</g>\n",
       "<!-- 5 -->\n",
       "<g id=\"node6\" class=\"node\">\n",
       "<title>5</title>\n",
       "<path fill=\"#f8ddc9\" stroke=\"black\" d=\"M500.25,-172.75C500.25,-172.75 341.75,-172.75 341.75,-172.75 335.75,-172.75 329.75,-166.75 329.75,-160.75 329.75,-160.75 329.75,-107.75 329.75,-107.75 329.75,-101.75 335.75,-95.75 341.75,-95.75 341.75,-95.75 500.25,-95.75 500.25,-95.75 506.25,-95.75 512.25,-101.75 512.25,-107.75 512.25,-107.75 512.25,-160.75 512.25,-160.75 512.25,-166.75 506.25,-172.75 500.25,-172.75\"/>\n",
       "<text text-anchor=\"middle\" x=\"421\" y=\"-155.45\" font-family=\"Helvetica,sans-Serif\" font-size=\"14.00\">mean texture &lt;= 16.19</text>\n",
       "<text text-anchor=\"middle\" x=\"421\" y=\"-138.2\" font-family=\"Helvetica,sans-Serif\" font-size=\"14.00\">samples = 19</text>\n",
       "<text text-anchor=\"middle\" x=\"421\" y=\"-120.95\" font-family=\"Helvetica,sans-Serif\" font-size=\"14.00\">value = [11, 8]</text>\n",
       "<text text-anchor=\"middle\" x=\"421\" y=\"-103.7\" font-family=\"Helvetica,sans-Serif\" font-size=\"14.00\">class = malignant</text>\n",
       "</g>\n",
       "<!-- 1&#45;&gt;5 -->\n",
       "<g id=\"edge5\" class=\"edge\">\n",
       "<title>1&#45;&gt;5</title>\n",
       "<path fill=\"none\" stroke=\"black\" d=\"M421,-208.36C421,-200.59 421,-192.31 421,-184.21\"/>\n",
       "<polygon fill=\"black\" stroke=\"black\" points=\"424.5,-184.48 421,-174.48 417.5,-184.48 424.5,-184.48\"/>\n",
       "</g>\n",
       "<!-- 3 -->\n",
       "<g id=\"node4\" class=\"node\">\n",
       "<title>3</title>\n",
       "<path fill=\"#3b9ee5\" stroke=\"black\" d=\"M118,-59.75C118,-59.75 12,-59.75 12,-59.75 6,-59.75 0,-53.75 0,-47.75 0,-47.75 0,-12 0,-12 0,-6 6,0 12,0 12,0 118,0 118,0 124,0 130,-6 130,-12 130,-12 130,-47.75 130,-47.75 130,-53.75 124,-59.75 118,-59.75\"/>\n",
       "<text text-anchor=\"middle\" x=\"65\" y=\"-42.45\" font-family=\"Helvetica,sans-Serif\" font-size=\"14.00\">samples = 260</text>\n",
       "<text text-anchor=\"middle\" x=\"65\" y=\"-25.2\" font-family=\"Helvetica,sans-Serif\" font-size=\"14.00\">value = [3, 257]</text>\n",
       "<text text-anchor=\"middle\" x=\"65\" y=\"-7.95\" font-family=\"Helvetica,sans-Serif\" font-size=\"14.00\">class = benign</text>\n",
       "</g>\n",
       "<!-- 2&#45;&gt;3 -->\n",
       "<g id=\"edge3\" class=\"edge\">\n",
       "<title>2&#45;&gt;3</title>\n",
       "<path fill=\"none\" stroke=\"black\" d=\"M162.09,-95.42C147.89,-85.98 132.71,-75.89 118.67,-66.55\"/>\n",
       "<polygon fill=\"black\" stroke=\"black\" points=\"120.69,-63.69 110.42,-61.07 116.81,-69.52 120.69,-63.69\"/>\n",
       "</g>\n",
       "<!-- 4 -->\n",
       "<g id=\"node5\" class=\"node\">\n",
       "<title>4</title>\n",
       "<path fill=\"#f2c09c\" stroke=\"black\" d=\"M277.62,-59.75C277.62,-59.75 160.38,-59.75 160.38,-59.75 154.38,-59.75 148.38,-53.75 148.38,-47.75 148.38,-47.75 148.38,-12 148.38,-12 148.38,-6 154.38,0 160.38,0 160.38,0 277.62,0 277.62,0 283.62,0 289.62,-6 289.62,-12 289.62,-12 289.62,-47.75 289.62,-47.75 289.62,-53.75 283.62,-59.75 277.62,-59.75\"/>\n",
       "<text text-anchor=\"middle\" x=\"219\" y=\"-42.45\" font-family=\"Helvetica,sans-Serif\" font-size=\"14.00\">samples = 3</text>\n",
       "<text text-anchor=\"middle\" x=\"219\" y=\"-25.2\" font-family=\"Helvetica,sans-Serif\" font-size=\"14.00\">value = [2, 1]</text>\n",
       "<text text-anchor=\"middle\" x=\"219\" y=\"-7.95\" font-family=\"Helvetica,sans-Serif\" font-size=\"14.00\">class = malignant</text>\n",
       "</g>\n",
       "<!-- 2&#45;&gt;4 -->\n",
       "<g id=\"edge4\" class=\"edge\">\n",
       "<title>2&#45;&gt;4</title>\n",
       "<path fill=\"none\" stroke=\"black\" d=\"M219,-95.42C219,-87.7 219,-79.55 219,-71.74\"/>\n",
       "<polygon fill=\"black\" stroke=\"black\" points=\"222.5,-71.74 219,-61.74 215.5,-71.74 222.5,-71.74\"/>\n",
       "</g>\n",
       "<!-- 6 -->\n",
       "<g id=\"node7\" class=\"node\">\n",
       "<title>6</title>\n",
       "<path fill=\"#399de5\" stroke=\"black\" d=\"M414.75,-59.75C414.75,-59.75 319.25,-59.75 319.25,-59.75 313.25,-59.75 307.25,-53.75 307.25,-47.75 307.25,-47.75 307.25,-12 307.25,-12 307.25,-6 313.25,0 319.25,0 319.25,0 414.75,0 414.75,0 420.75,0 426.75,-6 426.75,-12 426.75,-12 426.75,-47.75 426.75,-47.75 426.75,-53.75 420.75,-59.75 414.75,-59.75\"/>\n",
       "<text text-anchor=\"middle\" x=\"367\" y=\"-42.45\" font-family=\"Helvetica,sans-Serif\" font-size=\"14.00\">samples = 6</text>\n",
       "<text text-anchor=\"middle\" x=\"367\" y=\"-25.2\" font-family=\"Helvetica,sans-Serif\" font-size=\"14.00\">value = [0, 6]</text>\n",
       "<text text-anchor=\"middle\" x=\"367\" y=\"-7.95\" font-family=\"Helvetica,sans-Serif\" font-size=\"14.00\">class = benign</text>\n",
       "</g>\n",
       "<!-- 5&#45;&gt;6 -->\n",
       "<g id=\"edge6\" class=\"edge\">\n",
       "<title>5&#45;&gt;6</title>\n",
       "<path fill=\"none\" stroke=\"black\" d=\"M401.05,-95.42C396.74,-87.25 392.17,-78.59 387.83,-70.36\"/>\n",
       "<polygon fill=\"black\" stroke=\"black\" points=\"390.95,-68.78 383.19,-61.57 384.76,-72.05 390.95,-68.78\"/>\n",
       "</g>\n",
       "<!-- 7 -->\n",
       "<g id=\"node8\" class=\"node\">\n",
       "<title>7</title>\n",
       "<path fill=\"#ea985d\" stroke=\"black\" d=\"M573.62,-59.75C573.62,-59.75 456.38,-59.75 456.38,-59.75 450.38,-59.75 444.38,-53.75 444.38,-47.75 444.38,-47.75 444.38,-12 444.38,-12 444.38,-6 450.38,0 456.38,0 456.38,0 573.62,0 573.62,0 579.62,0 585.62,-6 585.62,-12 585.62,-12 585.62,-47.75 585.62,-47.75 585.62,-53.75 579.62,-59.75 573.62,-59.75\"/>\n",
       "<text text-anchor=\"middle\" x=\"515\" y=\"-42.45\" font-family=\"Helvetica,sans-Serif\" font-size=\"14.00\">samples = 13</text>\n",
       "<text text-anchor=\"middle\" x=\"515\" y=\"-25.2\" font-family=\"Helvetica,sans-Serif\" font-size=\"14.00\">value = [11, 2]</text>\n",
       "<text text-anchor=\"middle\" x=\"515\" y=\"-7.95\" font-family=\"Helvetica,sans-Serif\" font-size=\"14.00\">class = malignant</text>\n",
       "</g>\n",
       "<!-- 5&#45;&gt;7 -->\n",
       "<g id=\"edge7\" class=\"edge\">\n",
       "<title>5&#45;&gt;7</title>\n",
       "<path fill=\"none\" stroke=\"black\" d=\"M455.74,-95.42C463.82,-86.61 472.43,-77.24 480.5,-68.45\"/>\n",
       "<polygon fill=\"black\" stroke=\"black\" points=\"482.84,-71.08 487.02,-61.35 477.68,-66.34 482.84,-71.08\"/>\n",
       "</g>\n",
       "<!-- 9 -->\n",
       "<g id=\"node10\" class=\"node\">\n",
       "<title>9</title>\n",
       "<path fill=\"#f4fafe\" stroke=\"black\" d=\"M786.75,-172.75C786.75,-172.75 601.25,-172.75 601.25,-172.75 595.25,-172.75 589.25,-166.75 589.25,-160.75 589.25,-160.75 589.25,-107.75 589.25,-107.75 589.25,-101.75 595.25,-95.75 601.25,-95.75 601.25,-95.75 786.75,-95.75 786.75,-95.75 792.75,-95.75 798.75,-101.75 798.75,-107.75 798.75,-107.75 798.75,-160.75 798.75,-160.75 798.75,-166.75 792.75,-172.75 786.75,-172.75\"/>\n",
       "<text text-anchor=\"middle\" x=\"694\" y=\"-155.45\" font-family=\"Helvetica,sans-Serif\" font-size=\"14.00\">worst perimeter &lt;= 115.25</text>\n",
       "<text text-anchor=\"middle\" x=\"694\" y=\"-138.2\" font-family=\"Helvetica,sans-Serif\" font-size=\"14.00\">samples = 35</text>\n",
       "<text text-anchor=\"middle\" x=\"694\" y=\"-120.95\" font-family=\"Helvetica,sans-Serif\" font-size=\"14.00\">value = [17, 18]</text>\n",
       "<text text-anchor=\"middle\" x=\"694\" y=\"-103.7\" font-family=\"Helvetica,sans-Serif\" font-size=\"14.00\">class = benign</text>\n",
       "</g>\n",
       "<!-- 8&#45;&gt;9 -->\n",
       "<g id=\"edge9\" class=\"edge\">\n",
       "<title>8&#45;&gt;9</title>\n",
       "<path fill=\"none\" stroke=\"black\" d=\"M694,-208.36C694,-200.59 694,-192.31 694,-184.21\"/>\n",
       "<polygon fill=\"black\" stroke=\"black\" points=\"697.5,-184.48 694,-174.48 690.5,-184.48 697.5,-184.48\"/>\n",
       "</g>\n",
       "<!-- 12 -->\n",
       "<g id=\"node13\" class=\"node\">\n",
       "<title>12</title>\n",
       "<path fill=\"#e5833c\" stroke=\"black\" d=\"M1083.88,-172.75C1083.88,-172.75 860.12,-172.75 860.12,-172.75 854.12,-172.75 848.12,-166.75 848.12,-160.75 848.12,-160.75 848.12,-107.75 848.12,-107.75 848.12,-101.75 854.12,-95.75 860.12,-95.75 860.12,-95.75 1083.88,-95.75 1083.88,-95.75 1089.88,-95.75 1095.88,-101.75 1095.88,-107.75 1095.88,-107.75 1095.88,-160.75 1095.88,-160.75 1095.88,-166.75 1089.88,-172.75 1083.88,-172.75\"/>\n",
       "<text text-anchor=\"middle\" x=\"972\" y=\"-155.45\" font-family=\"Helvetica,sans-Serif\" font-size=\"14.00\">fractal dimension error &lt;= 0.013</text>\n",
       "<text text-anchor=\"middle\" x=\"972\" y=\"-138.2\" font-family=\"Helvetica,sans-Serif\" font-size=\"14.00\">samples = 138</text>\n",
       "<text text-anchor=\"middle\" x=\"972\" y=\"-120.95\" font-family=\"Helvetica,sans-Serif\" font-size=\"14.00\">value = [136, 2]</text>\n",
       "<text text-anchor=\"middle\" x=\"972\" y=\"-103.7\" font-family=\"Helvetica,sans-Serif\" font-size=\"14.00\">class = malignant</text>\n",
       "</g>\n",
       "<!-- 8&#45;&gt;12 -->\n",
       "<g id=\"edge12\" class=\"edge\">\n",
       "<title>8&#45;&gt;12</title>\n",
       "<path fill=\"none\" stroke=\"black\" d=\"M788.89,-208.36C813.92,-198.37 841.07,-187.53 866.61,-177.33\"/>\n",
       "<polygon fill=\"black\" stroke=\"black\" points=\"867.67,-180.68 875.66,-173.72 865.07,-174.18 867.67,-180.68\"/>\n",
       "</g>\n",
       "<!-- 10 -->\n",
       "<g id=\"node11\" class=\"node\">\n",
       "<title>10</title>\n",
       "<path fill=\"#65b3eb\" stroke=\"black\" d=\"M712.5,-59.75C712.5,-59.75 615.5,-59.75 615.5,-59.75 609.5,-59.75 603.5,-53.75 603.5,-47.75 603.5,-47.75 603.5,-12 603.5,-12 603.5,-6 609.5,0 615.5,0 615.5,0 712.5,0 712.5,0 718.5,0 724.5,-6 724.5,-12 724.5,-12 724.5,-47.75 724.5,-47.75 724.5,-53.75 718.5,-59.75 712.5,-59.75\"/>\n",
       "<text text-anchor=\"middle\" x=\"664\" y=\"-42.45\" font-family=\"Helvetica,sans-Serif\" font-size=\"14.00\">samples = 22</text>\n",
       "<text text-anchor=\"middle\" x=\"664\" y=\"-25.2\" font-family=\"Helvetica,sans-Serif\" font-size=\"14.00\">value = [4, 18]</text>\n",
       "<text text-anchor=\"middle\" x=\"664\" y=\"-7.95\" font-family=\"Helvetica,sans-Serif\" font-size=\"14.00\">class = benign</text>\n",
       "</g>\n",
       "<!-- 9&#45;&gt;10 -->\n",
       "<g id=\"edge10\" class=\"edge\">\n",
       "<title>9&#45;&gt;10</title>\n",
       "<path fill=\"none\" stroke=\"black\" d=\"M682.91,-95.42C680.6,-87.52 678.15,-79.17 675.81,-71.19\"/>\n",
       "<polygon fill=\"black\" stroke=\"black\" points=\"679.2,-70.3 673.03,-61.68 672.48,-72.26 679.2,-70.3\"/>\n",
       "</g>\n",
       "<!-- 11 -->\n",
       "<g id=\"node12\" class=\"node\">\n",
       "<title>11</title>\n",
       "<path fill=\"#e58139\" stroke=\"black\" d=\"M871.62,-59.75C871.62,-59.75 754.38,-59.75 754.38,-59.75 748.38,-59.75 742.38,-53.75 742.38,-47.75 742.38,-47.75 742.38,-12 742.38,-12 742.38,-6 748.38,0 754.38,0 754.38,0 871.62,0 871.62,0 877.62,0 883.62,-6 883.62,-12 883.62,-12 883.62,-47.75 883.62,-47.75 883.62,-53.75 877.62,-59.75 871.62,-59.75\"/>\n",
       "<text text-anchor=\"middle\" x=\"813\" y=\"-42.45\" font-family=\"Helvetica,sans-Serif\" font-size=\"14.00\">samples = 13</text>\n",
       "<text text-anchor=\"middle\" x=\"813\" y=\"-25.2\" font-family=\"Helvetica,sans-Serif\" font-size=\"14.00\">value = [13, 0]</text>\n",
       "<text text-anchor=\"middle\" x=\"813\" y=\"-7.95\" font-family=\"Helvetica,sans-Serif\" font-size=\"14.00\">class = malignant</text>\n",
       "</g>\n",
       "<!-- 9&#45;&gt;11 -->\n",
       "<g id=\"edge11\" class=\"edge\">\n",
       "<title>9&#45;&gt;11</title>\n",
       "<path fill=\"none\" stroke=\"black\" d=\"M737.97,-95.42C748.53,-86.34 759.78,-76.66 770.27,-67.63\"/>\n",
       "<polygon fill=\"black\" stroke=\"black\" points=\"772.43,-70.39 777.73,-61.22 767.87,-65.09 772.43,-70.39\"/>\n",
       "</g>\n",
       "<!-- 13 -->\n",
       "<g id=\"node14\" class=\"node\">\n",
       "<title>13</title>\n",
       "<path fill=\"#e58139\" stroke=\"black\" d=\"M1030.62,-59.75C1030.62,-59.75 913.38,-59.75 913.38,-59.75 907.38,-59.75 901.38,-53.75 901.38,-47.75 901.38,-47.75 901.38,-12 901.38,-12 901.38,-6 907.38,0 913.38,0 913.38,0 1030.62,0 1030.62,0 1036.62,0 1042.62,-6 1042.62,-12 1042.62,-12 1042.62,-47.75 1042.62,-47.75 1042.62,-53.75 1036.62,-59.75 1030.62,-59.75\"/>\n",
       "<text text-anchor=\"middle\" x=\"972\" y=\"-42.45\" font-family=\"Helvetica,sans-Serif\" font-size=\"14.00\">samples = 136</text>\n",
       "<text text-anchor=\"middle\" x=\"972\" y=\"-25.2\" font-family=\"Helvetica,sans-Serif\" font-size=\"14.00\">value = [136, 0]</text>\n",
       "<text text-anchor=\"middle\" x=\"972\" y=\"-7.95\" font-family=\"Helvetica,sans-Serif\" font-size=\"14.00\">class = malignant</text>\n",
       "</g>\n",
       "<!-- 12&#45;&gt;13 -->\n",
       "<g id=\"edge13\" class=\"edge\">\n",
       "<title>12&#45;&gt;13</title>\n",
       "<path fill=\"none\" stroke=\"black\" d=\"M972,-95.42C972,-87.7 972,-79.55 972,-71.74\"/>\n",
       "<polygon fill=\"black\" stroke=\"black\" points=\"975.5,-71.74 972,-61.74 968.5,-71.74 975.5,-71.74\"/>\n",
       "</g>\n",
       "<!-- 14 -->\n",
       "<g id=\"node15\" class=\"node\">\n",
       "<title>14</title>\n",
       "<path fill=\"#399de5\" stroke=\"black\" d=\"M1167.75,-59.75C1167.75,-59.75 1072.25,-59.75 1072.25,-59.75 1066.25,-59.75 1060.25,-53.75 1060.25,-47.75 1060.25,-47.75 1060.25,-12 1060.25,-12 1060.25,-6 1066.25,0 1072.25,0 1072.25,0 1167.75,0 1167.75,0 1173.75,0 1179.75,-6 1179.75,-12 1179.75,-12 1179.75,-47.75 1179.75,-47.75 1179.75,-53.75 1173.75,-59.75 1167.75,-59.75\"/>\n",
       "<text text-anchor=\"middle\" x=\"1120\" y=\"-42.45\" font-family=\"Helvetica,sans-Serif\" font-size=\"14.00\">samples = 2</text>\n",
       "<text text-anchor=\"middle\" x=\"1120\" y=\"-25.2\" font-family=\"Helvetica,sans-Serif\" font-size=\"14.00\">value = [0, 2]</text>\n",
       "<text text-anchor=\"middle\" x=\"1120\" y=\"-7.95\" font-family=\"Helvetica,sans-Serif\" font-size=\"14.00\">class = benign</text>\n",
       "</g>\n",
       "<!-- 12&#45;&gt;14 -->\n",
       "<g id=\"edge14\" class=\"edge\">\n",
       "<title>12&#45;&gt;14</title>\n",
       "<path fill=\"none\" stroke=\"black\" d=\"M1026.69,-95.42C1040.34,-85.98 1054.93,-75.89 1068.42,-66.55\"/>\n",
       "<polygon fill=\"black\" stroke=\"black\" points=\"1070.08,-69.66 1076.32,-61.09 1066.1,-63.9 1070.08,-69.66\"/>\n",
       "</g>\n",
       "</g>\n",
       "</svg>\n"
      ],
      "text/plain": [
       "<graphviz.sources.Source at 0x7fa63ee5cc90>"
      ]
     },
     "metadata": {},
     "output_type": "display_data"
    }
   ],
   "source": [
    "dec_tree = DecisionTreeClassifier(random_state = 42, max_depth=3)\n",
    "dec_tree.fit(X_train, y_train)\n",
    "visualize_tree(dec_tree, feature_names, data.target_names)"
   ]
  },
  {
   "cell_type": "markdown",
   "metadata": {
    "id": "ILSrkVuIq2fU"
   },
   "source": [
    "<span style=\"background-color: #FFD700\">**Write your answer below**</span>\n",
    "\n",
    "Answer: Mean Concave Points, 8 leaves.\r",
    "\r\n"
   ]
  },
  {
   "cell_type": "markdown",
   "metadata": {
    "id": "h0uY-DThpOKq"
   },
   "source": [
    "**GQ3 (1 mark): Nick has a dataset with 500 *unique* training points, and he fits a tree with the following parameters and achieves 100% training accuracy. Should Nick be happy with these results? If not, what does Nick need to do to confirm that his tree is good?**\n",
    "\n",
    "* Min Depth: 8\n",
    "* Min Samples per Leaf: 1\n",
    "* Min Entropy Decrease: 0.0\n"
   ]
  },
  {
   "cell_type": "markdown",
   "metadata": {
    "id": "wvy7Da13qz8s"
   },
   "source": [
    "<span style=\"background-color: #FFD700\">**Write your answer below**</span>\n",
    "\n",
    "Answer: No, Nick should be cautious, as those hyperparameters allow for one leaf per data point, and the resulting tree might be overfitting.\r",
    "\r\n"
   ]
  },
  {
   "cell_type": "markdown",
   "metadata": {
    "id": "GsLLdnKk5MwK"
   },
   "source": [
    "## Conclusion\n",
    "\n",
    "In conclusion, decision trees are powerful and intuitive tools in machine learning that offer both flexibility and interpretability. By iteratively splitting data based on feature values, decision trees can model complex relationships and make predictions for both classification and regression tasks. Additionally, the ability of a tree to be visualized and easily interpreted makes it a powerful analytic tool in your toolbox.\n",
    "\n",
    "However, with this flexibility comes the risk of overfitting, where the model becomes too tailored to the training data and loses its ability to generalize to new data. To prevent this, various parameters can be modified to help adjust the tendency of a tree to fit into noise. Understanding the balance between complexity and generalization is key to effectively using decision trees. With this knowledge, you can confidently apply decision trees to a wide range of problems, making them a valuable tool in your machine learning toolkit."
   ]
  }
 ],
 "metadata": {
  "colab": {
   "provenance": [],
   "toc_visible": true
  },
  "kernelspec": {
   "display_name": "Python 3 (ipykernel)",
   "language": "python",
   "name": "python3"
  },
  "language_info": {
   "codemirror_mode": {
    "name": "ipython",
    "version": 3
   },
   "file_extension": ".py",
   "mimetype": "text/x-python",
   "name": "python",
   "nbconvert_exporter": "python",
   "pygments_lexer": "ipython3",
   "version": "3.11.6"
  }
 },
 "nbformat": 4,
 "nbformat_minor": 4
}
